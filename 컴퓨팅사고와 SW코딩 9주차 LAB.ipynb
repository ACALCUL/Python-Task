{
 "cells": [
  {
   "cell_type": "code",
   "execution_count": 1,
   "id": "e50652da",
   "metadata": {},
   "outputs": [
    {
     "data": {
      "text/plain": [
       "100"
      ]
     },
     "execution_count": 1,
     "metadata": {},
     "output_type": "execute_result"
    }
   ],
   "source": [
    "(200).__sub__(100)"
   ]
  },
  {
   "cell_type": "code",
   "execution_count": 2,
   "id": "df0b076c",
   "metadata": {},
   "outputs": [
    {
     "data": {
      "text/plain": [
       "20000"
      ]
     },
     "execution_count": 2,
     "metadata": {},
     "output_type": "execute_result"
    }
   ],
   "source": [
    "(200).__mul__(100)"
   ]
  },
  {
   "cell_type": "code",
   "execution_count": 3,
   "id": "fce7e6ee",
   "metadata": {},
   "outputs": [
    {
     "data": {
      "text/plain": [
       "2.0"
      ]
     },
     "execution_count": 3,
     "metadata": {},
     "output_type": "execute_result"
    }
   ],
   "source": [
    "(200).__truediv__(100)"
   ]
  },
  {
   "cell_type": "code",
   "execution_count": 4,
   "id": "07d0b138",
   "metadata": {},
   "outputs": [
    {
     "data": {
      "text/plain": [
       "40"
      ]
     },
     "execution_count": 4,
     "metadata": {},
     "output_type": "execute_result"
    }
   ],
   "source": [
    "[10,20,30,40].pop()"
   ]
  },
  {
   "cell_type": "code",
   "execution_count": 7,
   "id": "1c6928f3",
   "metadata": {},
   "outputs": [
    {
     "data": {
      "text/plain": [
       "['__abs__',\n",
       " '__add__',\n",
       " '__and__',\n",
       " '__bool__',\n",
       " '__ceil__',\n",
       " '__class__',\n",
       " '__delattr__',\n",
       " '__dir__',\n",
       " '__divmod__',\n",
       " '__doc__',\n",
       " '__eq__',\n",
       " '__float__',\n",
       " '__floor__',\n",
       " '__floordiv__',\n",
       " '__format__',\n",
       " '__ge__',\n",
       " '__getattribute__',\n",
       " '__getnewargs__',\n",
       " '__gt__',\n",
       " '__hash__',\n",
       " '__index__',\n",
       " '__init__',\n",
       " '__init_subclass__',\n",
       " '__int__',\n",
       " '__invert__',\n",
       " '__le__',\n",
       " '__lshift__',\n",
       " '__lt__',\n",
       " '__mod__',\n",
       " '__mul__',\n",
       " '__ne__',\n",
       " '__neg__',\n",
       " '__new__',\n",
       " '__or__',\n",
       " '__pos__',\n",
       " '__pow__',\n",
       " '__radd__',\n",
       " '__rand__',\n",
       " '__rdivmod__',\n",
       " '__reduce__',\n",
       " '__reduce_ex__',\n",
       " '__repr__',\n",
       " '__rfloordiv__',\n",
       " '__rlshift__',\n",
       " '__rmod__',\n",
       " '__rmul__',\n",
       " '__ror__',\n",
       " '__round__',\n",
       " '__rpow__',\n",
       " '__rrshift__',\n",
       " '__rshift__',\n",
       " '__rsub__',\n",
       " '__rtruediv__',\n",
       " '__rxor__',\n",
       " '__setattr__',\n",
       " '__sizeof__',\n",
       " '__str__',\n",
       " '__sub__',\n",
       " '__subclasshook__',\n",
       " '__truediv__',\n",
       " '__trunc__',\n",
       " '__xor__',\n",
       " 'as_integer_ratio',\n",
       " 'bit_length',\n",
       " 'conjugate',\n",
       " 'denominator',\n",
       " 'from_bytes',\n",
       " 'imag',\n",
       " 'numerator',\n",
       " 'real',\n",
       " 'to_bytes']"
      ]
     },
     "execution_count": 7,
     "metadata": {},
     "output_type": "execute_result"
    }
   ],
   "source": [
    "dir(int)"
   ]
  },
  {
   "cell_type": "code",
   "execution_count": 8,
   "id": "44ada2a9",
   "metadata": {},
   "outputs": [
    {
     "data": {
      "text/plain": [
       "['__add__',\n",
       " '__class__',\n",
       " '__contains__',\n",
       " '__delattr__',\n",
       " '__delitem__',\n",
       " '__dir__',\n",
       " '__doc__',\n",
       " '__eq__',\n",
       " '__format__',\n",
       " '__ge__',\n",
       " '__getattribute__',\n",
       " '__getitem__',\n",
       " '__gt__',\n",
       " '__hash__',\n",
       " '__iadd__',\n",
       " '__imul__',\n",
       " '__init__',\n",
       " '__init_subclass__',\n",
       " '__iter__',\n",
       " '__le__',\n",
       " '__len__',\n",
       " '__lt__',\n",
       " '__mul__',\n",
       " '__ne__',\n",
       " '__new__',\n",
       " '__reduce__',\n",
       " '__reduce_ex__',\n",
       " '__repr__',\n",
       " '__reversed__',\n",
       " '__rmul__',\n",
       " '__setattr__',\n",
       " '__setitem__',\n",
       " '__sizeof__',\n",
       " '__str__',\n",
       " '__subclasshook__',\n",
       " 'append',\n",
       " 'clear',\n",
       " 'copy',\n",
       " 'count',\n",
       " 'extend',\n",
       " 'index',\n",
       " 'insert',\n",
       " 'pop',\n",
       " 'remove',\n",
       " 'reverse',\n",
       " 'sort']"
      ]
     },
     "execution_count": 8,
     "metadata": {},
     "output_type": "execute_result"
    }
   ],
   "source": [
    "dir(list)"
   ]
  },
  {
   "cell_type": "code",
   "execution_count": 9,
   "id": "54308329",
   "metadata": {},
   "outputs": [
    {
     "name": "stdout",
     "output_type": "stream",
     "text": [
      "멍멍~~\n"
     ]
    }
   ],
   "source": [
    "class Dog:\n",
    "    def bark(self):\n",
    "        print(\"멍멍~~\")\n",
    "\n",
    "my_dog=Dog()\n",
    "my_dog.bark()"
   ]
  },
  {
   "cell_type": "code",
   "execution_count": 10,
   "id": "7492fac7",
   "metadata": {},
   "outputs": [
    {
     "name": "stdout",
     "output_type": "stream",
     "text": [
      "멍멍~~\n"
     ]
    }
   ],
   "source": [
    "class Dog:\n",
    "    def __init__(self, name):\n",
    "        self.name=name\n",
    "    def bark(self):\n",
    "        print(\"멍멍~~\")\n",
    "my_dog=Dog('jindo')\n",
    "my_dog.bark()"
   ]
  },
  {
   "cell_type": "code",
   "execution_count": 11,
   "id": "32acb39d",
   "metadata": {},
   "outputs": [
    {
     "name": "stdout",
     "output_type": "stream",
     "text": [
      "my_dog의 정보 : Dog(name =jindo)\n"
     ]
    }
   ],
   "source": [
    "class Dog:\n",
    "    def __init__(self, name):\n",
    "        self.name=name\n",
    "    def __str__(self):\n",
    "        return 'Dog(name ='+self.name+')'\n",
    "my_dog=Dog('jindo')\n",
    "print(\"my_dog의 정보 :\", my_dog)"
   ]
  },
  {
   "cell_type": "code",
   "execution_count": 14,
   "id": "8de6d629",
   "metadata": {},
   "outputs": [
    {
     "name": "stdout",
     "output_type": "stream",
     "text": [
      "n is m\n"
     ]
    }
   ],
   "source": [
    "n=100\n",
    "m=100\n",
    "if n is m:\n",
    "    print('n is m')\n",
    "else:\n",
    "    print('n is not m')\n",
    "#정수 객체도 문자열 객체와 마찬가지로 같은 숫자를 할당할 경우 \n",
    "#메모리를 절약하기 위해서 같은 저장 위치를 참조한다."
   ]
  },
  {
   "cell_type": "code",
   "execution_count": 25,
   "id": "ae168862",
   "metadata": {},
   "outputs": [
    {
     "name": "stdout",
     "output_type": "stream",
     "text": [
      "v1 * v2 = (300,800)\n",
      "v1 / v2 = (3.0,2.0)\n"
     ]
    }
   ],
   "source": [
    "class vector2d:\n",
    "    def __init__(self,x,y):\n",
    "        self.x=x\n",
    "        self.y=y\n",
    "    def __str__(self):\n",
    "        return \"({},{})\".format(self.x, self.y)\n",
    "    def __add__(self, other):\n",
    "        return vector2d(self.x+other.x, self.y+other.y)\n",
    "    def __mul__(self, other):\n",
    "        return vector2d(self.x*other.x, self.y*other.y)\n",
    "    def __truediv__(self, other):\n",
    "        return vector2d(self.x/other.x, self.y/other.y)\n",
    "\n",
    "v1=vector2d(30,40)\n",
    "v2=vector2d(10, 20)\n",
    "print(\"v1 * v2 =\", v1.__mul__(v2))\n",
    "print(\"v1 / v2 =\", v1.__truediv__(v2))"
   ]
  },
  {
   "cell_type": "code",
   "execution_count": 26,
   "id": "33ac3a77",
   "metadata": {},
   "outputs": [
    {
     "name": "stdout",
     "output_type": "stream",
     "text": [
      "-v1 = (-10,-20)\n"
     ]
    }
   ],
   "source": [
    "class vector2d:\n",
    "    def __init__(self,x,y):\n",
    "        self.x=x\n",
    "        self.y=y\n",
    "    def __str__(self):\n",
    "        return \"({},{})\".format(self.x, self.y)\n",
    "    def __add__(self, other):\n",
    "        return vector2d(self.x+other.x, self.y+other.y)\n",
    "    def __mul__(self, other):\n",
    "        return vector2d(self.x*other.x, self.y*other.y)\n",
    "    def __truediv__(self, other):\n",
    "        return vector2d(self.x/other.x, self.y/other.y)\n",
    "    def __neg__(self):\n",
    "        return vector2d(-self.x, -self.y)\n",
    "\n",
    "v1=vector2d(10, 20)\n",
    "print(\"-v1 =\", v1.__neg__())"
   ]
  },
  {
   "cell_type": "code",
   "execution_count": 31,
   "id": "6647e662",
   "metadata": {},
   "outputs": [
    {
     "name": "stdout",
     "output_type": "stream",
     "text": [
      "v1 >  v2 = True\n",
      "v1 >= v2 = True\n",
      "v1 <  v2 = False\n",
      "v1 <= v2 = False\n"
     ]
    }
   ],
   "source": [
    "class vector2d:\n",
    "    def __init__(self,x,y):\n",
    "        self.x=x\n",
    "        self.y=y\n",
    "    def __str__(self):\n",
    "        return \"({},{})\".format(self.x, self.y)\n",
    "    def __add__(self, other):\n",
    "        return vector2d(self.x+other.x, self.y+other.y)\n",
    "    def __mul__(self, other):\n",
    "        return vector2d(self.x*other.x, self.y*other.y)\n",
    "    def __truediv__(self, other):\n",
    "        return vector2d(self.x/other.x, self.y/other.y)\n",
    "    def __neg__(self):\n",
    "        return vector2d(-self.x, -self.y)\n",
    "    def __it__(self, other):\n",
    "        self_m=((self.x)**2+(self.y)**2)**(1/2)\n",
    "        other_m=((other.x)**2+(other.y)**2)**(1/2)\n",
    "        if(self_m<other_m):\n",
    "            return True\n",
    "        else:\n",
    "            return False\n",
    "    def __ie__(self, other):\n",
    "        self_m=((self.x)**2+(self.y)**2)**(1/2)\n",
    "        other_m=((other.x)**2+(other.y)**2)**(1/2)\n",
    "        if(self_m<=other_m):\n",
    "            return True\n",
    "        else:\n",
    "            return False\n",
    "    def __ge__(self, other):\n",
    "        self_m=((self.x)**2+(self.y)**2)**(1/2)\n",
    "        other_m=((other.x)**2+(other.y)**2)**(1/2)\n",
    "        if(self_m>=other_m):\n",
    "            return True\n",
    "        else:\n",
    "            return False\n",
    "    def __gt__(self, other):\n",
    "        self_m=((self.x)**2+(self.y)**2)**(1/2)\n",
    "        other_m=((other.x)**2+(other.y)**2)**(1/2)\n",
    "        if(self_m>other_m):\n",
    "            return True\n",
    "        else:\n",
    "            return False\n",
    "v1=vector2d(30, 40)\n",
    "v2=vector2d(10,20)\n",
    "print(\"v1 >  v2 =\", v1.__gt__(v2))\n",
    "print(\"v1 >= v2 =\", v1.__ge__(v2))\n",
    "print(\"v1 <  v2 =\", v1.__it__(v2))\n",
    "print(\"v1 <= v2 =\", v1.__ie__(v2))\n"
   ]
  },
  {
   "cell_type": "code",
   "execution_count": 33,
   "id": "eba039e7",
   "metadata": {},
   "outputs": [
    {
     "name": "stdout",
     "output_type": "stream",
     "text": [
      "{'width': 100, 'height': 200}\n",
      "100\n"
     ]
    }
   ],
   "source": [
    "class Rect:\n",
    "    def __init__(self, width, height):\n",
    "        self.width=width\n",
    "        self.height=height\n",
    "r1=Rect(100,200)\n",
    "print(r1.__dict__)\n",
    "print(r1.__dict__['width'])"
   ]
  },
  {
   "cell_type": "code",
   "execution_count": 36,
   "id": "ba96055c",
   "metadata": {},
   "outputs": [
    {
     "name": "stdout",
     "output_type": "stream",
     "text": [
      "{'_Rect__width': 100, '_Rect__height': 200}\n",
      "100\n"
     ]
    }
   ],
   "source": [
    "class Rect:\n",
    "    def __init__(self, width, height):\n",
    "        self.__width=width\n",
    "        self.__height=height\n",
    "r1=Rect(100,200)\n",
    "print(r1.__dict__)\n",
    "print(r1.__dict__['_Rect__width'])\n",
    "#width대신 언더스코어를 추가한 __width를 사용하면 dict의 key값에 '_클래스명'이 붙는다."
   ]
  },
  {
   "cell_type": "code",
   "execution_count": null,
   "id": "28b95b43",
   "metadata": {},
   "outputs": [],
   "source": []
  }
 ],
 "metadata": {
  "kernelspec": {
   "display_name": "Python 3",
   "language": "python",
   "name": "python3"
  },
  "language_info": {
   "codemirror_mode": {
    "name": "ipython",
    "version": 3
   },
   "file_extension": ".py",
   "mimetype": "text/x-python",
   "name": "python",
   "nbconvert_exporter": "python",
   "pygments_lexer": "ipython3",
   "version": "3.8.8"
  }
 },
 "nbformat": 4,
 "nbformat_minor": 5
}
