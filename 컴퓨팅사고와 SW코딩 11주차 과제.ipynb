{
 "cells": [
  {
   "cell_type": "code",
   "execution_count": 16,
   "metadata": {},
   "outputs": [
    {
     "name": "stdout",
     "output_type": "stream",
     "text": [
      "even_list = [2, 4, 6, 8, 10]\n"
     ]
    }
   ],
   "source": [
    "n_list=[1,2,3,4,5,6,7,8,9,10]\n",
    "even_list=[]\n",
    "for i in filter(lambda x:not x%2, n_list):\n",
    "    even_list.append(i)\n",
    "print(\"even_list =\", even_list)\n"
   ]
  },
  {
   "cell_type": "code",
   "execution_count": 13,
   "metadata": {},
   "outputs": [
    {
     "name": "stdout",
     "output_type": "stream",
     "text": [
      "odd_list = [1, 3, 5, 7, 9]\n"
     ]
    }
   ],
   "source": [
    "n_list=[1,2,3,4,5,6,7,8,9,10]\n",
    "odd_list=[]\n",
    "for i in filter(lambda x:x%2, n_list):\n",
    "    odd_list.append(i)\n",
    "print(\"odd_list =\", odd_list)"
   ]
  },
  {
   "cell_type": "code",
   "execution_count": 36,
   "metadata": {
    "scrolled": true
   },
   "outputs": [
    {
     "name": "stdout",
     "output_type": "stream",
     "text": [
      "upper_a_list = ['A', 'B', 'C', 'D']\n"
     ]
    }
   ],
   "source": [
    "a_list=['a','b','c','d']\n",
    "upper_func=lambda x:x.upper()\n",
    "upper_a_list=list(map(upper_func, a_list))\n",
    "print(\"upper_a_list =\", upper_a_list)\n"
   ]
  },
  {
   "cell_type": "code",
   "execution_count": 39,
   "metadata": {},
   "outputs": [
    {
     "name": "stdout",
     "output_type": "stream",
     "text": [
      "입력 값의 두 배 : [20, 40, 60]\n",
      "입력 값의 세 배 : [30, 60, 90]\n"
     ]
    }
   ],
   "source": [
    "n_list=[10,20,30]\n",
    "twice=lambda x: x*2\n",
    "triple=lambda x: x*3\n",
    "twice_n_list=list(map(twice, n_list))\n",
    "print(\"입력 값의 두 배 :\", twice_n_list)\n",
    "triple_n_list=list(map(triple, n_list))\n",
    "print(\"입력 값의 세 배 :\", triple_n_list)"
   ]
  },
  {
   "cell_type": "code",
   "execution_count": 4,
   "metadata": {},
   "outputs": [
    {
     "name": "stdout",
     "output_type": "stream",
     "text": [
      "1에서 100까지의 합 : 5050\n"
     ]
    }
   ],
   "source": [
    "from functools import reduce\n",
    "list_n=[]\n",
    "for i in range(1,101):\n",
    "    list_n.append(i)\n",
    "n=reduce(lambda x,y:x+y, list_n)\n",
    "print(\"1에서 100까지의 합 :\", n)"
   ]
  },
  {
   "cell_type": "code",
   "execution_count": 6,
   "metadata": {},
   "outputs": [
    {
     "name": "stdout",
     "output_type": "stream",
     "text": [
      "10! = 3628800\n"
     ]
    }
   ],
   "source": [
    "from functools import reduce\n",
    "list_n=[]\n",
    "for i in range(1, 11):\n",
    "    list_n.append(i)\n",
    "n=reduce(lambda x, y : x*y, list_n)\n",
    "print(\"10! =\", n)\n"
   ]
  },
  {
   "cell_type": "code",
   "execution_count": 10,
   "metadata": {},
   "outputs": [
    {
     "name": "stdout",
     "output_type": "stream",
     "text": [
      "cubic = [1, 8, 27, 64, 125, 216, 343, 512, 729, 1000]\n"
     ]
    }
   ],
   "source": [
    "cubic=[x**3 for x in range(1,11)]\n",
    "print(\"cubic =\", cubic)"
   ]
  },
  {
   "cell_type": "code",
   "execution_count": 14,
   "metadata": {},
   "outputs": [
    {
     "name": "stdout",
     "output_type": "stream",
     "text": [
      "a = ['welcome', 'to', 'the', 'python', 'world']\n",
      "first_a = ['w', 't', 't', 'p', 'w']\n"
     ]
    }
   ],
   "source": [
    "a=['welcome', 'to', 'the', 'python', 'world']\n",
    "print(\"a =\", a)\n",
    "first_a=[x[0] for x in a]\n",
    "print(\"first_a =\", first_a)"
   ]
  },
  {
   "cell_type": "code",
   "execution_count": 4,
   "metadata": {},
   "outputs": [
    {
     "name": "stdout",
     "output_type": "stream",
     "text": [
      "cubic = [1, 8, 27, 64, 125, 216, 343]\n"
     ]
    }
   ],
   "source": [
    "cubic=[x**3 for x in range(1,100) if x**3<=500]\n",
    "print(\"cubic =\", cubic)"
   ]
  },
  {
   "cell_type": "code",
   "execution_count": 5,
   "metadata": {},
   "outputs": [
    {
     "name": "stdout",
     "output_type": "stream",
     "text": [
      "['1', '2', '3', '4']\n"
     ]
    }
   ],
   "source": [
    "st='Hello 1234 Python'\n",
    "print([x for x in st if x.isdigit()])"
   ]
  },
  {
   "cell_type": "code",
   "execution_count": 14,
   "metadata": {},
   "outputs": [
    {
     "name": "stdout",
     "output_type": "stream",
     "text": [
      "0 2 4 6 8 "
     ]
    }
   ],
   "source": [
    "class EvenCounter:\n",
    "    def __init__(self, n = 0):\n",
    "        self.n = n\n",
    "    def __iter__(self):\n",
    "        return self\n",
    "    def __next__(self):\n",
    "        if self.n <= 20:    # 반복자가 수행되는 조건\n",
    "            t = self.n\n",
    "            self.n += 2\n",
    "            return t\n",
    "        raise StopIteration # 조건을 만족하지 않으면 StopIteration을 raise함\n",
    "\n",
    "my_counter = EvenCounter()\n",
    "for i in range(5):\n",
    "    print(next(my_counter), end=' ')\n"
   ]
  },
  {
   "cell_type": "code",
   "execution_count": 2,
   "metadata": {},
   "outputs": [
    {
     "name": "stdout",
     "output_type": "stream",
     "text": [
      "0 2 4 6 8 10 12 14 16 18 20 "
     ]
    }
   ],
   "source": [
    "class EvenCounter:\n",
    "    def __init__(self, n = 0):\n",
    "        self.n = n\n",
    "    def __iter__(self):\n",
    "        return self\n",
    "    def __next__(self):\n",
    "        if self.n <= 20:\n",
    "            t = self.n\n",
    "            self.n += 2\n",
    "            return t\n",
    "        raise StopIteration \n",
    "\n",
    "my_counter = EvenCounter()\n",
    "for i in my_counter:\n",
    "    print(i, end=' ')\n",
    "    "
   ]
  },
  {
   "cell_type": "code",
   "execution_count": 3,
   "metadata": {},
   "outputs": [
    {
     "data": {
      "text/plain": [
       "['Welcome', 'to', 'Busan', 'Metropolitan', 'City.']"
      ]
     },
     "execution_count": 3,
     "metadata": {},
     "output_type": "execute_result"
    }
   ],
   "source": [
    "txt='Welcome to Busan Metropolitan City.'\n",
    "txt.split()"
   ]
  },
  {
   "cell_type": "code",
   "execution_count": 4,
   "metadata": {},
   "outputs": [
    {
     "data": {
      "text/plain": [
       "['Hello', ' My name is DongMin', 'Good to see you again']"
      ]
     },
     "execution_count": 4,
     "metadata": {},
     "output_type": "execute_result"
    }
   ],
   "source": [
    "greet='Hello, My name is DongMin,Good to see you again'\n",
    "greet.split(',')"
   ]
  },
  {
   "cell_type": "code",
   "execution_count": 5,
   "metadata": {},
   "outputs": [
    {
     "data": {
      "text/plain": [
       "['Apple', 'Banana', 'Melon', 'Orange']"
      ]
     },
     "execution_count": 5,
     "metadata": {},
     "output_type": "execute_result"
    }
   ],
   "source": [
    "fruits='Apple|Banana|Melon|Orange'\n",
    "fruits.split('|')"
   ]
  },
  {
   "cell_type": "code",
   "execution_count": null,
   "metadata": {},
   "outputs": [],
   "source": []
  }
 ],
 "metadata": {
  "kernelspec": {
   "display_name": "Python 3",
   "language": "python",
   "name": "python3"
  },
  "language_info": {
   "codemirror_mode": {
    "name": "ipython",
    "version": 3
   },
   "file_extension": ".py",
   "mimetype": "text/x-python",
   "name": "python",
   "nbconvert_exporter": "python",
   "pygments_lexer": "ipython3",
   "version": "3.8.5"
  }
 },
 "nbformat": 4,
 "nbformat_minor": 4
}
