{
 "cells": [
  {
   "cell_type": "code",
   "execution_count": 9,
   "id": "558492a0",
   "metadata": {},
   "outputs": [
    {
     "name": "stdout",
     "output_type": "stream",
     "text": [
      "로미오의 주사위 숫자는 5입니다.\n",
      "줄리엣의 주사위 숫자는 5입니다.\n",
      "비겼습니다.\n"
     ]
    }
   ],
   "source": [
    "import random as rd\n",
    "\n",
    "r_dice=rd.randrange(1,7)\n",
    "j_dice=rd.randrange(1,7)\n",
    "print(\"로미오의 주사위 숫자는 {}입니다.\".format(r_dice))\n",
    "print(\"줄리엣의 주사위 숫자는 {}입니다.\".format(j_dice))\n",
    "if r_dice>j_dice:\n",
    "    print(\"로미오가 이겼습니다.\")\n",
    "elif r_dice<j_dice:\n",
    "    print(\"줄리엣이 이겼습니다.\")\n",
    "else:\n",
    "    print(\"비겼습니다.\")\n"
   ]
  },
  {
   "cell_type": "code",
   "execution_count": 2,
   "id": "38f41f90",
   "metadata": {},
   "outputs": [
    {
     "name": "stdout",
     "output_type": "stream",
     "text": [
      "1~20까지의 숫자를 입력하세요: 10\n",
      "10보다 큽니다!\n",
      "1~20까지의 숫자를 입력하세요: 15\n",
      "15보다 큽니다!\n",
      "1~20까지의 숫자를 입력하세요: 18\n",
      "18보다 작습니다!\n",
      "1~20까지의 숫자를 입력하세요: 16\n",
      "16보다 큽니다!\n",
      "1~20까지의 숫자를 입력하세요: 17\n",
      "정답입니다!\n",
      "5번 만에 맞추셨네요. 잘했어요^^\n"
     ]
    }
   ],
   "source": [
    "import random as rd\n",
    "\n",
    "x=rd.randrange(1,21)\n",
    "input_user=int(input(\"1~20까지의 숫자를 입력하세요: \"))\n",
    "num=1\n",
    "while input_user!=x:\n",
    "    if x<input_user:\n",
    "        print(\"{}보다 작습니다!\".format(input_user))\n",
    "        num+=1\n",
    "    else:\n",
    "        print(\"{}보다 큽니다!\".format(input_user))\n",
    "        num+=1\n",
    "    input_user=int(input(\"1~20까지의 숫자를 입력하세요: \"))    \n",
    "        \n",
    "print(\"정답입니다!\")\n",
    "if num<4:\n",
    "        print(\"{}번 만에 맞춘 당신은 천재!\".format(num))\n",
    "elif 3<num<7:\n",
    "        print(\"{}번 만에 맞추셨네요. 잘했어요^^\".format(num))\n",
    "else:\n",
    "        print(\"{}번 만에 맞추다니 쩝쩝...\".format(num))"
   ]
  },
  {
   "cell_type": "code",
   "execution_count": 18,
   "id": "112e9a5b",
   "metadata": {},
   "outputs": [
    {
     "name": "stdout",
     "output_type": "stream",
     "text": [
      "오늘은 2022년 10월 16일입니다\n",
      "춘향이와 몽룡이의 연애 시작일 : 2019년 2월 24일\n",
      "연애 시작일로부터 경과한 날짜: 1330일\n",
      "100일 기념일: 2019년 6월 4일\n",
      "200일 기념일: 2019년 9월 12일\n",
      "500일 기념일: 2020년 7월 8일\n",
      "1000일 기념일: 2021년 11월 20일\n"
     ]
    }
   ],
   "source": [
    "import datetime as dt\n",
    "\n",
    "today=dt.date.today()\n",
    "print(\"오늘은 {}년 {}월 {}일입니다\".format(today.year, today.month, today.day))\n",
    "date_=dt.date(2019, 2, 24)\n",
    "print(\"춘향이와 몽룡이의 연애 시작일 : {}년 {}월 {}일\".format(date_.year, date_.month, date_.day))\n",
    "timegap=today-date_\n",
    "print(\"연애 시작일로부터 경과한 날짜: {}일\".format(timegap.days))\n",
    "date_2=date_+dt.timedelta(days=100)\n",
    "print(\"100일 기념일: {}년 {}월 {}일\".format(date_2.year, date_2.month, date_2.day))\n",
    "date_3=date_+dt.timedelta(days=200)\n",
    "print(\"200일 기념일: {}년 {}월 {}일\".format(date_3.year, date_3.month, date_3.day))\n",
    "date_4=date_+dt.timedelta(days=500)\n",
    "print(\"500일 기념일: {}년 {}월 {}일\".format(date_4.year, date_4.month, date_4.day))\n",
    "date_5=date_+dt.timedelta(days=1000)\n",
    "print(\"1000일 기념일: {}년 {}월 {}일\".format(date_5.year, date_5.month, date_5.day))"
   ]
  },
  {
   "cell_type": "code",
   "execution_count": 7,
   "id": "44c9dbf0",
   "metadata": {},
   "outputs": [
    {
     "name": "stdout",
     "output_type": "stream",
     "text": [
      "1에서 1,000,000까지의 합을 100번 반복해서 구하는 시간: 3.1213초\n"
     ]
    }
   ],
   "source": [
    "def sum1to1000000():\n",
    "    sum=0\n",
    "    for i in range(1,1000001):\n",
    "        sum+=i\n",
    "    return sum\n",
    "\n",
    "import time\n",
    "\n",
    "start=time.time()\n",
    "for i in range(100):\n",
    "    a = sum1to1000000()\n",
    "end=time.time()\n",
    "gap=end-start\n",
    "print(\"1에서 1,000,000까지의 합을 100번 반복해서 구하는 시간: {:.4f}초\".format(gap))"
   ]
  },
  {
   "cell_type": "code",
   "execution_count": 9,
   "id": "adc75a30",
   "metadata": {},
   "outputs": [
    {
     "name": "stdout",
     "output_type": "stream",
     "text": [
      "320650\n",
      "357253\n",
      "184220\n",
      "304740\n",
      "309496\n",
      "734709\n",
      "902269\n",
      "668589\n",
      "63947\n",
      "583001\n"
     ]
    }
   ],
   "source": [
    "def myRand(x):\n",
    "    a=21381734\n",
    "    b=31719237918\n",
    "    m=1000001\n",
    "    new_x=(a*x+b)%m\n",
    "    return new_x\n",
    "\n",
    "seed_number=23890\n",
    "for i in range(10):\n",
    "    seed_number=myRand(seed_number)\n",
    "    print(seed_number)"
   ]
  },
  {
   "cell_type": "code",
   "execution_count": null,
   "id": "9c05e2b9",
   "metadata": {},
   "outputs": [],
   "source": []
  }
 ],
 "metadata": {
  "kernelspec": {
   "display_name": "Python 3 (ipykernel)",
   "language": "python",
   "name": "python3"
  },
  "language_info": {
   "codemirror_mode": {
    "name": "ipython",
    "version": 3
   },
   "file_extension": ".py",
   "mimetype": "text/x-python",
   "name": "python",
   "nbconvert_exporter": "python",
   "pygments_lexer": "ipython3",
   "version": "3.9.12"
  }
 },
 "nbformat": 4,
 "nbformat_minor": 5
}
