{
 "cells": [
  {
   "cell_type": "code",
   "execution_count": 4,
   "metadata": {},
   "outputs": [
    {
     "name": "stdout",
     "output_type": "stream",
     "text": [
      "ERROR:: [Errno 13] Permission denied: 'greet.txt'\n"
     ]
    }
   ],
   "source": [
    "try:\n",
    "    f=open(\"greet.txt\", \"w\")\n",
    "except Exception as e:\n",
    "    print('ERROR::', e)\n",
    "else:\n",
    "    f.write(\"Hi, everyone.\\n\")\n",
    "    f.write(\"Welcome to Python.\")\n",
    "    f.close()"
   ]
  },
  {
   "cell_type": "code",
   "execution_count": 8,
   "metadata": {},
   "outputs": [],
   "source": [
    "f=open(\"number1to10.txt\", \"w\")\n",
    "for i in range(1, 11):\n",
    "    f.write('{}\\n'.format(i))\n",
    "f.close()\n",
    "#연습문제 2를 수행하기 위한 number1to10 생성 코드"
   ]
  },
  {
   "cell_type": "code",
   "execution_count": 12,
   "metadata": {},
   "outputs": [],
   "source": [
    "f1=open(\"number1to10.txt\", \"w\")\n",
    "f2=open(\"numberby10.txt\", \"w\")\n",
    "for i in range(1,11):\n",
    "    j=10*i\n",
    "    f2.write(str(j)+'\\n')\n",
    "f1.close()\n",
    "f2.close()"
   ]
  },
  {
   "cell_type": "code",
   "execution_count": 13,
   "metadata": {},
   "outputs": [],
   "source": [
    "f1=open(\"number1to10.txt\", \"w\")\n",
    "f3=open(\"merge.txt\", \"w\")\n",
    "for i in range(1,11):\n",
    "    j=10*i\n",
    "    f3.write(str(i)+' : '+str(j)+'\\n')\n",
    "f1.close()\n",
    "f3.close()"
   ]
  },
  {
   "cell_type": "code",
   "execution_count": 6,
   "metadata": {},
   "outputs": [],
   "source": [
    "f=open(\"my_hello\", \"w\")\n",
    "f.write(\"Hello Python\")\n",
    "f.close()"
   ]
  },
  {
   "cell_type": "code",
   "execution_count": 4,
   "metadata": {},
   "outputs": [
    {
     "name": "stdout",
     "output_type": "stream",
     "text": [
      "ERROR:: [Errno 13] Permission denied: 'my_hello'\n"
     ]
    }
   ],
   "source": [
    "try:\n",
    "    f=open(\"my_hello\", \"w\")\n",
    "except Exception as e:\n",
    "    print('ERROR::', e)\n",
    "else:\n",
    "    f.write(\"Hello Python\")\n",
    "finally:\n",
    "    f.close()"
   ]
  },
  {
   "cell_type": "code",
   "execution_count": 15,
   "metadata": {},
   "outputs": [],
   "source": [
    "f=open(\"hello.txt\", \"w\")\n",
    "f.write('Hello.\\n')\n",
    "f.write('Hi, there.')\n",
    "f.close()"
   ]
  },
  {
   "cell_type": "code",
   "execution_count": 16,
   "metadata": {},
   "outputs": [
    {
     "name": "stdout",
     "output_type": "stream",
     "text": [
      "hello.txt 파일 :\n",
      "Hello.\n",
      "Hi, there."
     ]
    }
   ],
   "source": [
    "f=open(\"hello.txt\", \"r\")\n",
    "print(\"hello.txt 파일 :\")\n",
    "l=f.readline()\n",
    "while l:\n",
    "    print(l, end=\"\");\n",
    "    l=f.readline()\n",
    "f.close()"
   ]
  },
  {
   "cell_type": "code",
   "execution_count": 17,
   "metadata": {},
   "outputs": [],
   "source": [
    "f=open(\"hello.txt\", \"a\")\n",
    "f.write('\\nWelcome to Python!')\n",
    "f.close()"
   ]
  },
  {
   "cell_type": "code",
   "execution_count": 46,
   "metadata": {},
   "outputs": [],
   "source": [
    "import random as rd\n",
    "f=open(\"randint30.txt\", \"w\")\n",
    "for i in range(30):\n",
    "    f.write(str(rd.randrange(1,11))+' ')\n",
    "f.close()"
   ]
  },
  {
   "cell_type": "code",
   "execution_count": 47,
   "metadata": {},
   "outputs": [
    {
     "name": "stdout",
     "output_type": "stream",
     "text": [
      "1 : 2개\n",
      "2 : 1개\n",
      "3 : 3개\n",
      "4 : 4개\n",
      "5 : 1개\n",
      "6 : 3개\n",
      "7 : 4개\n",
      "8 : 4개\n",
      "9 : 5개\n",
      "10 : 3개\n"
     ]
    }
   ],
   "source": [
    "f=open(\"randint30.txt\", \"r\")\n",
    "l=f.readline()\n",
    "list1=l.split(' ')\n",
    "#print(list1)\n",
    "del list1[len(list1)-1]\n",
    "#del을 사용하지 않으면 ''가 list1에 저장되므로 적어준다.\n",
    "list2=[]\n",
    "for i in range(len(list1)):\n",
    "    list2.append(int(list1[i]))\n",
    "#print(list2)\n",
    "#문자열 리스트인 list1을 정수형 리스트인 list2로 바꿔주는 작업\n",
    "list3=[]\n",
    "for i in range(11):\n",
    "    list3.append(0)\n",
    "for i in range(len(list2)):\n",
    "    list3[list2[i]]+=1\n",
    "for i in range(1,11):\n",
    "    print(\"{} : {}개\".format(i, list3[i]))"
   ]
  },
  {
   "cell_type": "code",
   "execution_count": null,
   "metadata": {},
   "outputs": [],
   "source": []
  }
 ],
 "metadata": {
  "kernelspec": {
   "display_name": "Python 3 (ipykernel)",
   "language": "python",
   "name": "python3"
  },
  "language_info": {
   "codemirror_mode": {
    "name": "ipython",
    "version": 3
   },
   "file_extension": ".py",
   "mimetype": "text/x-python",
   "name": "python",
   "nbconvert_exporter": "python",
   "pygments_lexer": "ipython3",
   "version": "3.9.12"
  }
 },
 "nbformat": 4,
 "nbformat_minor": 4
}
