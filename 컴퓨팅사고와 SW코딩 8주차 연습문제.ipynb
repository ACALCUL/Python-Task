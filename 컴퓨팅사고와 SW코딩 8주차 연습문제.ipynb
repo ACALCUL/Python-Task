{
 "cells": [
  {
   "cell_type": "code",
   "execution_count": 4,
   "metadata": {},
   "outputs": [
    {
     "name": "stdout",
     "output_type": "stream",
     "text": [
      "ERROR:: [Errno 13] Permission denied: 'greet.txt'\n"
     ]
    }
   ],
   "source": [
    "try:\n",
    "    f=open(\"greet.txt\", \"w\")\n",
    "except Exception as e:\n",
    "    print('ERROR::', e)\n",
    "else:\n",
    "    f.write(\"Hi, everyone.\\n\")\n",
    "    f.write(\"Welcome to Python.\")\n",
    "    f.close()"
   ]
  },
  {
   "cell_type": "code",
   "execution_count": 8,
   "metadata": {},
   "outputs": [],
   "source": [
    "f=open(\"number1to10.txt\", \"w\")\n",
    "for i in range(1, 11):\n",
    "    f.write('{}\\n'.format(i))\n",
    "f.close()\n",
    "#연습문제 2를 수행하기 위한 number1to10 생성 코드"
   ]
  },
  {
   "cell_type": "code",
   "execution_count": 12,
   "metadata": {},
   "outputs": [],
   "source": [
    "f1=open(\"number1to10.txt\", \"w\")\n",
    "f2=open(\"numberby10.txt\", \"w\")\n",
    "for i in range(1,11):\n",
    "    j=10*i\n",
    "    f2.write(str(j)+'\\n')\n",
    "f1.close()\n",
    "f2.close()"
   ]
  },
  {
   "cell_type": "code",
   "execution_count": 13,
   "metadata": {},
   "outputs": [],
   "source": [
    "f1=open(\"number1to10.txt\", \"w\")\n",
    "f3=open(\"merge.txt\", \"w\")\n",
    "for i in range(1,11):\n",
    "    j=10*i\n",
    "    f3.write(str(i)+' : '+str(j)+'\\n')\n",
    "f1.close()\n",
    "f3.close()"
   ]
  },
  {
   "cell_type": "code",
   "execution_count": null,
   "metadata": {},
   "outputs": [],
   "source": []
  }
 ],
 "metadata": {
  "kernelspec": {
   "display_name": "Python 3",
   "language": "python",
   "name": "python3"
  },
  "language_info": {
   "codemirror_mode": {
    "name": "ipython",
    "version": 3
   },
   "file_extension": ".py",
   "mimetype": "text/x-python",
   "name": "python",
   "nbconvert_exporter": "python",
   "pygments_lexer": "ipython3",
   "version": "3.8.5"
  }
 },
 "nbformat": 4,
 "nbformat_minor": 4
}
