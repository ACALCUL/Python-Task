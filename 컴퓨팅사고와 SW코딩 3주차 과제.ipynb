{
 "cells": [
  {
   "cell_type": "code",
   "execution_count": 7,
   "id": "6724ba77",
   "metadata": {},
   "outputs": [
    {
     "name": "stdout",
     "output_type": "stream",
     "text": [
      "정사각형의 밑변을 입력하시오 : 40\n",
      "정사각형의 면적 : 1600\n"
     ]
    }
   ],
   "source": [
    "base=int(input('정사각형의 밑변을 입력하시오 : '))\n",
    "print('정사각형의 면적 :', base**2)"
   ]
  },
  {
   "cell_type": "code",
   "execution_count": 16,
   "id": "258a7ab7",
   "metadata": {},
   "outputs": [
    {
     "name": "stdout",
     "output_type": "stream",
     "text": [
      "섭씨온도를 입력하세요 : 16\n",
      "섭씨 16 도는 화씨 60.8 도 입니다.\n"
     ]
    }
   ],
   "source": [
    "celsius=int(input('섭씨온도를 입력하세요 : '))\n",
    "print('섭씨', celsius,'도는 화씨', (9/5)*celsius+32,'도 입니다.')"
   ]
  },
  {
   "cell_type": "code",
   "execution_count": 11,
   "id": "705eade6",
   "metadata": {},
   "outputs": [
    {
     "name": "stdout",
     "output_type": "stream",
     "text": [
      "2 4 8 16 32 64 128 256 512 1024\n"
     ]
    }
   ],
   "source": [
    "i=2 <<0\n",
    "print(i, i<<1, i<<2, i<<3, i<<4, i<<5, i<<6, i<<7, i<<8, i<<9)"
   ]
  },
  {
   "cell_type": "code",
   "execution_count": 14,
   "id": "83aa8f18",
   "metadata": {},
   "outputs": [
    {
     "name": "stdout",
     "output_type": "stream",
     "text": [
      "정수를 입력하세요 : 2\n",
      "이 수가 짝수인가요?\n",
      "True\n"
     ]
    }
   ],
   "source": [
    "n=int(input('정수를 입력하세요 : '))\n",
    "print('이 수가 짝수인가요?')\n",
    "if n%2==0:\n",
    "    print('True')\n",
    "else:\n",
    "    print('False')"
   ]
  },
  {
   "cell_type": "code",
   "execution_count": 17,
   "id": "ba9905d4",
   "metadata": {},
   "outputs": [
    {
     "name": "stdout",
     "output_type": "stream",
     "text": [
      "세 자리 정수를 입력하세요 : 349\n",
      "백의 자리 : 3 \n",
      "\n",
      "십의 자리 : 4 \n",
      "\n",
      "일의 자리 : 9 \n",
      "\n"
     ]
    }
   ],
   "source": [
    "n=int(input('세 자리 정수를 입력하세요 : '))\n",
    "print('백의 자리 :', n//100,'\\n')\n",
    "print('십의 자리 :', (n%100)//10,'\\n')\n",
    "print('일의 자리 :', n%10,'\\n')"
   ]
  },
  {
   "cell_type": "code",
   "execution_count": null,
   "id": "35155025",
   "metadata": {},
   "outputs": [],
   "source": []
  }
 ],
 "metadata": {
  "kernelspec": {
   "display_name": "Python 3 (ipykernel)",
   "language": "python",
   "name": "python3"
  },
  "language_info": {
   "codemirror_mode": {
    "name": "ipython",
    "version": 3
   },
   "file_extension": ".py",
   "mimetype": "text/x-python",
   "name": "python",
   "nbconvert_exporter": "python",
   "pygments_lexer": "ipython3",
   "version": "3.9.7"
  }
 },
 "nbformat": 4,
 "nbformat_minor": 5
}
