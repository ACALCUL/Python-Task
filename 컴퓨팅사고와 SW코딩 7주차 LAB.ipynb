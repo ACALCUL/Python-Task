{
 "cells": [
  {
   "cell_type": "code",
   "execution_count": 49,
   "metadata": {},
   "outputs": [
    {
     "name": "stdout",
     "output_type": "stream",
     "text": [
      "오늘의 날짜 : 2022년 10월 13일\n",
      "현재 시간: 오후 2시 33분 53초\n"
     ]
    }
   ],
   "source": [
    "from datetime import datetime\n",
    "now=datetime.now()\n",
    "print(\"오늘의 날짜 : {}년 {}월 {}일\".format(now.year, now.month, now.day))\n",
    "if now.hour<12 :\n",
    "    print(\"현재시간 : 오전 {}시 {}분 {}초\".format(now.hour, now.minute, now.second))\n",
    "elif now.hour==24:\n",
    "    print(\"현재 시간: 오전 12시 {}분 {}초\".format(now.minute, now.second))\n",
    "else:\n",
    "    print(\"현재 시간: 오후 {}시 {}분 {}초\".format(now.hour-12, now.minute, now.second))\n"
   ]
  },
  {
   "cell_type": "code",
   "execution_count": 60,
   "metadata": {
    "scrolled": true
   },
   "outputs": [
    {
     "name": "stdout",
     "output_type": "stream",
     "text": [
      "오늘은 2022년 10월 13일입니다.\n",
      "2025년 크리스마스까지는 1168일 9시간 남았습니다.\n"
     ]
    }
   ],
   "source": [
    "import datetime as dt\n",
    "today=dt.date.today()\n",
    "print(\"오늘은 {}년 {}월 {}일입니다.\".format(today.year, today.month, today.day))\n",
    "xMas=dt.datetime(2025, 12, 25)\n",
    "time_gap=xMas-dt.datetime.now()\n",
    "print('2025년 크리스마스까지는 {}일 {}시간 남았습니다.'.format(time_gap.days, time_gap.seconds // 3600))"
   ]
  },
  {
   "cell_type": "code",
   "execution_count": 61,
   "metadata": {},
   "outputs": [
    {
     "name": "stdout",
     "output_type": "stream",
     "text": [
      "오늘은 2022년 10월 13일입니다.\n",
      "2036년 새해까지는 4827일 9시간 남았습니다.\n"
     ]
    }
   ],
   "source": [
    "import datetime as dt\n",
    "today=dt.date.today()\n",
    "print(\"오늘은 {}년 {}월 {}일입니다.\".format(today.year, today.month, today.day))\n",
    "xMas=dt.datetime(2036, 1, 1)\n",
    "time_gap=xMas-dt.datetime.now()\n",
    "print('2036년 새해까지는 {}일 {}시간 남았습니다.'.format(time_gap.days, time_gap.seconds // 3600))"
   ]
  },
  {
   "cell_type": "code",
   "execution_count": 64,
   "metadata": {},
   "outputs": [
    {
     "name": "stdout",
     "output_type": "stream",
     "text": [
      "오늘은 2022년 10월 13일입니다.\n",
      "2023년 생일까지는 412일 9시간 남았습니다.\n"
     ]
    }
   ],
   "source": [
    "import datetime as dt\n",
    "today=dt.date.today()\n",
    "print(\"오늘은 {}년 {}월 {}일입니다.\".format(today.year, today.month, today.day))\n",
    "xMas=dt.datetime(2023, 11, 30)\n",
    "time_gap=xMas-dt.datetime.now()\n",
    "print('2023년 생일까지는 {}일 {}시간 남았습니다.'.format(time_gap.days, time_gap.seconds // 3600))"
   ]
  },
  {
   "cell_type": "code",
   "execution_count": 65,
   "metadata": {},
   "outputs": [
    {
     "name": "stdout",
     "output_type": "stream",
     "text": [
      "2025-07-09\n"
     ]
    }
   ],
   "source": [
    "import datetime as dt\n",
    "today=dt.date.today()\n",
    "plus=dt.timedelta(days=1000)\n",
    "today_plus=today+ plus\n",
    "print(today_plus)"
   ]
  },
  {
   "cell_type": "code",
   "execution_count": 78,
   "metadata": {},
   "outputs": [
    {
     "name": "stdout",
     "output_type": "stream",
     "text": [
      "처음으로 사귄 연도와 월, 일을 입력하시오 :2022 10 13\n",
      "100일 기념일은: 2023년 1월 21일입니다\n"
     ]
    }
   ],
   "source": [
    "a, b, c=map(int, input(\"처음으로 사귄 연도와 월, 일을 입력하시오 :\").split())\n",
    "import datetime as dt\n",
    "plus=dt.timedelta(days=100)\n",
    "date_=dt.date(a, b, c)\n",
    "date_plus=date_+plus\n",
    "print(\"100일 기념일은: {}년 {}월 {}일입니다\".format(date_plus.year, date_plus.month, date_plus.day))\n"
   ]
  },
  {
   "cell_type": "code",
   "execution_count": 89,
   "metadata": {},
   "outputs": [
    {
     "name": "stdout",
     "output_type": "stream",
     "text": [
      "4** 2=      16.0\n",
      "4** 3=      64.0\n",
      "4** 4=     256.0\n",
      "4** 5=    1024.0\n",
      "4** 6=    4096.0\n",
      "4** 7=   16384.0\n",
      "4** 8=   65536.0\n",
      "4** 9=  262144.0\n",
      "4**10= 1048576.0\n"
     ]
    }
   ],
   "source": [
    "import math as m\n",
    "for i in range(2, 11):\n",
    "    print(\"4**{:2}= {:9.1f}\".format(i, m.pow(4,i)))"
   ]
  },
  {
   "cell_type": "code",
   "execution_count": 91,
   "metadata": {},
   "outputs": [
    {
     "name": "stdout",
     "output_type": "stream",
     "text": [
      " 10 degree = 0.175 radian\n",
      " 20 degree = 0.349 radian\n",
      " 30 degree = 0.524 radian\n",
      " 40 degree = 0.698 radian\n",
      " 50 degree = 0.873 radian\n",
      " 60 degree = 1.047 radian\n",
      " 70 degree = 1.222 radian\n",
      " 80 degree = 1.396 radian\n",
      " 90 degree = 1.571 radian\n",
      "100 degree = 1.745 radian\n",
      "110 degree = 1.920 radian\n",
      "120 degree = 2.094 radian\n",
      "130 degree = 2.269 radian\n",
      "140 degree = 2.443 radian\n",
      "150 degree = 2.618 radian\n",
      "160 degree = 2.793 radian\n",
      "170 degree = 2.967 radian\n",
      "180 degree = 3.142 radian\n"
     ]
    }
   ],
   "source": [
    "import math as m\n",
    "for i in range(10, 190, 10):\n",
    "    print(\"{:3} degree = {:.3f} radian\".format(i, m.radians(i)))"
   ]
  },
  {
   "cell_type": "code",
   "execution_count": 94,
   "metadata": {},
   "outputs": [
    {
     "name": "stdout",
     "output_type": "stream",
     "text": [
      "sin(  10) = 0.17\n",
      "sin(  20) = 0.34\n",
      "sin(  30) = 0.50\n",
      "sin(  40) = 0.64\n",
      "sin(  50) = 0.77\n",
      "sin(  60) = 0.87\n",
      "sin(  70) = 0.94\n",
      "sin(  80) = 0.98\n",
      "sin(  90) = 1.00\n",
      "sin( 100) = 0.98\n",
      "sin( 110) = 0.94\n",
      "sin( 120) = 0.87\n",
      "sin( 130) = 0.77\n",
      "sin( 140) = 0.64\n",
      "sin( 150) = 0.50\n",
      "sin( 160) = 0.34\n",
      "sin( 170) = 0.17\n",
      "sin( 180) = 0.00\n"
     ]
    }
   ],
   "source": [
    "import math as m\n",
    "for i in range(10, 190, 10):\n",
    "    print(\"sin({:4}) = {:.2f}\".format(i, m.sin(m.radians(i))))"
   ]
  },
  {
   "cell_type": "code",
   "execution_count": 102,
   "metadata": {},
   "outputs": [
    {
     "name": "stdout",
     "output_type": "stream",
     "text": [
      "0에서 100 이하의 정수 중에서 5의 배수\n",
      "[80, 5, 20]\n"
     ]
    }
   ],
   "source": [
    "import random as rd\n",
    "list_=[]\n",
    "for i in range(3):\n",
    "    list_.append(rd.randrange(5, 101, 5))\n",
    "print(\"0에서 100 이하의 정수 중에서 5의 배수\")\n",
    "print(list_)\n"
   ]
  },
  {
   "cell_type": "code",
   "execution_count": 104,
   "metadata": {},
   "outputs": [
    {
     "name": "stdout",
     "output_type": "stream",
     "text": [
      "1에서 10 사이의 임의의 정수 : [9, 2, 3]\n"
     ]
    }
   ],
   "source": [
    "import random as rd\n",
    "list_=range(1,11)\n",
    "#range 앞에 list붙여서 형변환해도 가능\n",
    "print(\"1에서 10 사이의 임의의 정수 :\", rd.sample(list_, 3))"
   ]
  },
  {
   "cell_type": "code",
   "execution_count": 1,
   "metadata": {},
   "outputs": [],
   "source": [
    "import turtle as t\n",
    "t.shape(\"turtle\")\n",
    "\n",
    "t.forward(100)\n",
    "t. left(120)\n",
    "t.forward(100)\n",
    "t. left(120)\n",
    "t.forward(100)\n",
    "t. left(120)\n",
    "\n",
    "t. forward(200)\n",
    "t. left(120)\n",
    "t. forward(200)\n",
    "t. left(120)\n",
    "t. forward(200)\n",
    "t. left(120)\n",
    "    \n",
    "t.done()\n",
    "    "
   ]
  },
  {
   "cell_type": "code",
   "execution_count": 3,
   "metadata": {},
   "outputs": [],
   "source": [
    "import turtle as t\n",
    "t.shape(\"turtle\")\n",
    "\n",
    "for _ in range(3):\n",
    "    t.forward(100)\n",
    "    t. left(120)\n",
    "for _ in range(3):\n",
    "    t. forward(200)\n",
    "    t. left(120)\n",
    "t.done()"
   ]
  },
  {
   "cell_type": "code",
   "execution_count": 5,
   "metadata": {},
   "outputs": [],
   "source": [
    "import turtle as t\n",
    "t.shape(\"turtle\")\n",
    "for i in range(1,4):\n",
    "    for _ in range(3):\n",
    "        t.forward(100*i)\n",
    "        t. left(120)\n",
    "\n",
    "t.done()"
   ]
  },
  {
   "cell_type": "code",
   "execution_count": 7,
   "metadata": {},
   "outputs": [],
   "source": [
    "import turtle as t\n",
    "t.shape(\"turtle\")\n",
    "for _ in range(4):\n",
    "    t.forward(100)\n",
    "    t.left(90)\n",
    "\n",
    "t.done()"
   ]
  },
  {
   "cell_type": "code",
   "execution_count": 8,
   "metadata": {},
   "outputs": [],
   "source": [
    "import turtle as t\n",
    "t.color('blue')\n",
    "t.begin_fill()\n",
    "for _ in range(4):\n",
    "    t.forward(100)\n",
    "    t.left(90)\n",
    "t.end_fill()\n",
    "\n",
    "t.left(90)\n",
    "t.color('red')\n",
    "t.begin_fill()\n",
    "for _ in range(4):\n",
    "    t.forward(100)\n",
    "    t.left(90)\n",
    "t.end_fill()\n",
    "\n",
    "t.left(90)\n",
    "t.color('orange')\n",
    "t.begin_fill()\n",
    "for _ in range(4):\n",
    "    t.forward(100)\n",
    "    t.left(90)\n",
    "t.end_fill()\n",
    "\n",
    "t.left(90)\n",
    "t.color('green')\n",
    "t.begin_fill()\n",
    "for _ in range(4):\n",
    "    t.forward(100)\n",
    "    t.left(90)\n",
    "t.end_fill()\n",
    "\n",
    "t.done()"
   ]
  },
  {
   "cell_type": "code",
   "execution_count": 3,
   "metadata": {},
   "outputs": [],
   "source": [
    "import turtle as t\n",
    "def draw_rect():\n",
    "    colors=['blue','red', 'orange', 'green']\n",
    "    for i in range(4):\n",
    "        t.setheading(90*i)\n",
    "        t.color(colors[i])\n",
    "        t.begin_fill()\n",
    "        for _ in range(4):\n",
    "            t.forward(100)\n",
    "            t.left(90)\n",
    "        t.end_fill()\n",
    "    t.done()\n",
    "        \n",
    "draw_rect()"
   ]
  },
  {
   "cell_type": "code",
   "execution_count": 20,
   "metadata": {
    "scrolled": true
   },
   "outputs": [],
   "source": [
    "import turtle as t\n",
    "def draw_cir():\n",
    "    colors=['blue','red', 'orange', 'green']\n",
    "    for i in range(4):\n",
    "        t.setheading(90*i)\n",
    "        t.color(colors[i])\n",
    "        '''\n",
    "        a=100\n",
    "        for i in range(a):\n",
    "            t.forward(1)\n",
    "            t.left(360/a)\n",
    "        '''\n",
    "        t.circle(50)\n",
    "    t.done()\n",
    "        \n",
    "draw_cir()"
   ]
  },
  {
   "cell_type": "code",
   "execution_count": 5,
   "metadata": {
    "scrolled": true
   },
   "outputs": [],
   "source": [
    "import turtle as t\n",
    "import random as rd\n",
    "\n",
    "t.shape(\"turtle\")\n",
    "t.shapesize(4,4)\n",
    "d=300\n",
    "t.penup()\n",
    "for i in range(15):\n",
    "    x=rd.randint(-d,d)\n",
    "    y=rd.randint(-d, d)\n",
    "    t.goto(x,y)\n",
    "    t.stamp()\n",
    "    \n",
    "t.done()"
   ]
  },
  {
   "cell_type": "code",
   "execution_count": 3,
   "metadata": {},
   "outputs": [],
   "source": [
    "import turtle as t\n",
    "import random as rd\n",
    "\n",
    "colors=['blue','red', 'orange', 'green']\n",
    "t.shape(\"turtle\")\n",
    "t.shapesize(4,4)\n",
    "d=300\n",
    "t.penup()\n",
    "for i in range(15):\n",
    "    z=rd.randrange(0,4)\n",
    "    t.color(colors[z])\n",
    "    x=rd.randint(-d,d)\n",
    "    y=rd.randint(-d, d)\n",
    "    t.goto(x,y)\n",
    "    t.stamp()\n",
    "    \n",
    "t.done()"
   ]
  },
  {
   "cell_type": "code",
   "execution_count": null,
   "metadata": {},
   "outputs": [],
   "source": []
  }
 ],
 "metadata": {
  "kernelspec": {
   "display_name": "Python 3",
   "language": "python",
   "name": "python3"
  },
  "language_info": {
   "codemirror_mode": {
    "name": "ipython",
    "version": 3
   },
   "file_extension": ".py",
   "mimetype": "text/x-python",
   "name": "python",
   "nbconvert_exporter": "python",
   "pygments_lexer": "ipython3",
   "version": "3.8.5"
  }
 },
 "nbformat": 4,
 "nbformat_minor": 4
}
