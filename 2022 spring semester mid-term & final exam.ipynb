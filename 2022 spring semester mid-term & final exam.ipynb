{
 "cells": [
  {
   "cell_type": "code",
   "execution_count": 6,
   "id": "a1026f53",
   "metadata": {},
   "outputs": [
    {
     "name": "stdout",
     "output_type": "stream",
     "text": [
      "섭씨온도: 0, 화씨온도: 32.0\n",
      "섭씨온도: 5, 화씨온도: 41.0\n",
      "섭씨온도: 10, 화씨온도: 50.0\n",
      "섭씨온도: 15, 화씨온도: 59.0\n",
      "섭씨온도: 20, 화씨온도: 68.0\n",
      "섭씨온도: 25, 화씨온도: 77.0\n",
      "섭씨온도: 30, 화씨온도: 86.0\n",
      "섭씨온도: 35, 화씨온도: 95.0\n",
      "섭씨온도: 40, 화씨온도: 104.0\n",
      "섭씨온도: 45, 화씨온도: 113.0\n",
      "섭씨온도: 50, 화씨온도: 122.0\n"
     ]
    }
   ],
   "source": [
    "for i in range(0, 51, 5):\n",
    "    celsius=i\n",
    "    fahrenheit=(9/5)*i+32\n",
    "    print('섭씨온도: {}, 화씨온도: {}'.format(celsius, fahrenheit))"
   ]
  },
  {
   "cell_type": "code",
   "execution_count": 8,
   "id": "912265a8",
   "metadata": {},
   "outputs": [],
   "source": [
    "#a에서 2*2//2 = 4//2 = 2이고,\n",
    "#b에서 3//2*3 = 1*3 = 3이다.\n",
    "#따라서 print(a,b)를 하면, \"2 3\"이 출력된다.\n"
   ]
  },
  {
   "cell_type": "code",
   "execution_count": 14,
   "id": "ec716f36",
   "metadata": {},
   "outputs": [
    {
     "name": "stdout",
     "output_type": "stream",
     "text": [
      "233168\n"
     ]
    }
   ],
   "source": [
    "s=0\n",
    "for i in range(1, 1000):\n",
    "    if i%3==0:\n",
    "        s+=i\n",
    "    elif i%5 == 0:\n",
    "        s+=i\n",
    "print(s)"
   ]
  },
  {
   "cell_type": "code",
   "execution_count": null,
   "id": "7977ab85",
   "metadata": {},
   "outputs": [],
   "source": []
  }
 ],
 "metadata": {
  "kernelspec": {
   "display_name": "Python 3 (ipykernel)",
   "language": "python",
   "name": "python3"
  },
  "language_info": {
   "codemirror_mode": {
    "name": "ipython",
    "version": 3
   },
   "file_extension": ".py",
   "mimetype": "text/x-python",
   "name": "python",
   "nbconvert_exporter": "python",
   "pygments_lexer": "ipython3",
   "version": "3.9.7"
  }
 },
 "nbformat": 4,
 "nbformat_minor": 5
}
