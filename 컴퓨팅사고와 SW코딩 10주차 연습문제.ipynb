{
 "cells": [
  {
   "cell_type": "code",
   "execution_count": 11,
   "id": "571d3b70",
   "metadata": {},
   "outputs": [
    {
     "name": "stdout",
     "output_type": "stream",
     "text": [
      "이름은 Mango이고, 나이는 3살 입니다.\n"
     ]
    }
   ],
   "source": [
    "class Dog:\n",
    "    def __init__(self, name, age):\n",
    "        self.name=name\n",
    "        self.age=age\n",
    "        \n",
    "    def __str__(self):\n",
    "        return '이름은 '+self.name+'이고, 나이는 '+str(self.age)+'살 입니다.'\n",
    "\n",
    "my_dog=Dog('Mango', 3)\n",
    "print(my_dog)"
   ]
  },
  {
   "cell_type": "code",
   "execution_count": 38,
   "id": "fd8383ce",
   "metadata": {},
   "outputs": [
    {
     "name": "stdout",
     "output_type": "stream",
     "text": [
      "c1= C(11)\n",
      "\n",
      "c2= C(1)\n",
      "c2= C(0)\n",
      "\n",
      "c3= C(30)\n",
      "c4= C(0)\n"
     ]
    }
   ],
   "source": [
    "class Counter:\n",
    "    def __init__(self, number=0):\n",
    "        if number>=100 or number <= -1:\n",
    "            self.number=0\n",
    "        else:\n",
    "            self.number=number\n",
    "    def reset(self):\n",
    "        self.number=0\n",
    "    def inc(self):\n",
    "        self.number+=1\n",
    "    def dec(self):\n",
    "        self.number-=1\n",
    "    def __str__(self):\n",
    "        return 'C('+str(self.number)+')'\n",
    "    def __add__(self, other):\n",
    "        temp=Counter(0)\n",
    "        if self.number+other.number>=100:\n",
    "            pass\n",
    "        else:\n",
    "            temp.number=self.number+other.number\n",
    "        return temp\n",
    "    def __sub__(self, other):\n",
    "        temp=Counter(0)\n",
    "        if self.number-other.number<=-1:\n",
    "            pass\n",
    "        else:\n",
    "            temp.number=self.number-other.number\n",
    "        return temp\n",
    "\n",
    "c1=Counter(10)\n",
    "c1.inc()\n",
    "print('c1=', c1)\n",
    "print()\n",
    "\n",
    "c2=Counter()\n",
    "c2.inc()\n",
    "c2.inc()\n",
    "c2.dec()\n",
    "print('c2=', c2)\n",
    "c2.reset()\n",
    "print('c2=', c2)\n",
    "print()\n",
    "\n",
    "c1=Counter(10)\n",
    "c2=Counter(20)\n",
    "c3=c1 + c2\n",
    "c4= c1 - c2\n",
    "print('c3=', c3)\n",
    "print('c4=', c4)"
   ]
  },
  {
   "cell_type": "code",
   "execution_count": 48,
   "id": "1c40bd93",
   "metadata": {},
   "outputs": [
    {
     "name": "stdout",
     "output_type": "stream",
     "text": [
      "홍길동님의 계좌 1234-0001의 잔고는 0원입니다.\n",
      "2000원이 입금되었습니다. 잔고는 2000원입니다.\n",
      "홍길동님의 계좌 1234-0001의 잔고는 2000원입니다.\n",
      "홍길동님의 계좌 1234-0001의 잔고는 1500원입니다.\n",
      "계좌 잔고는 1500원으로 인출 요구 금액 5000원보다 작습니다.\n"
     ]
    }
   ],
   "source": [
    "class BankAccount:\n",
    "    def __init__(self, name, account_num, balance=0):\n",
    "        self.name=name\n",
    "        self.account_num=account_num\n",
    "        self.balance=balance\n",
    "    def __str__(self):\n",
    "        return self.name+'님의 계좌 '+self.account_num+'의 잔고는 '+str(self.balance)+'원입니다.'\n",
    "    def get_name(self):\n",
    "        return self.name\n",
    "    def get_account_num(self):\n",
    "        return self.account_num\n",
    "    def get_balance(self):\n",
    "        return self.balance\n",
    "    def deposit(self, money):\n",
    "        self.balance+=money\n",
    "        print(str(money)+\"원이 입금되었습니다. 잔고는 \"+str(self.balance)+\"원입니다.\")\n",
    "    def withdraw(self, money):\n",
    "        if money>self.balance:\n",
    "            print(\"계좌 잔고는 \"+str(self.balance)+\"원으로 인출 요구 금액 \"+str(money)+\"원보다 작습니다.\")\n",
    "        self.balance-=money\n",
    "\n",
    "account1=BankAccount('홍길동', '1234-0001')\n",
    "print(account1)\n",
    "account1.deposit(2000)\n",
    "print(account1)\n",
    "account1.withdraw(500)\n",
    "print(account1)\n",
    "account1.withdraw(5000)"
   ]
  },
  {
   "cell_type": "code",
   "execution_count": 16,
   "id": "ac785ce0",
   "metadata": {},
   "outputs": [
    {
     "name": "stdout",
     "output_type": "stream",
     "text": [
      "학생의 이름을 입력하세요: 홍길동\n",
      "학생의 학번을 입력하세요: 20200012\n",
      "학생의 국어 성적을 입력하세요 : 85\n",
      "학생의 수학 성적을 입력하세요 : 90\n",
      "학생의 과학 성적을 입력하세요 : 95\n",
      "이름: 홍길동, 학번: 20200012\n",
      "국어성적: 85, 수학성적: 90, 과학성적: 95\n",
      "합계: 270, 평균: 90.0\n"
     ]
    }
   ],
   "source": [
    "class Student:\n",
    "    def __init__(self, name, student_id, korean_quiz=0, math_quiz=0, science_quiz=0, total_score=0):\n",
    "        self.name=name\n",
    "        self.student_id=student_id\n",
    "        self.korean_quiz=korean_quiz\n",
    "        self.math_quiz=math_quiz\n",
    "        self.science_quiz=science_quiz\n",
    "        self.total_score=korean_quiz+math_quiz+science_quiz\n",
    "    def __str__(self):\n",
    "        return ('이름: '+self.name+', 학번: '+self.student_id\n",
    "                +'\\n국어성적: '+str(self.korean_quiz)+', 수학성적: '+str(self.math_quiz)\n",
    "                +', 과학성적: '+str(self.science_quiz)\n",
    "                +'\\n합계: '+str(self.total_score)\n",
    "                +', 평균: '+str(self.total_score/3)\n",
    "               )\n",
    "    \n",
    "    def get_name(self):\n",
    "        return self.name\n",
    "    def get_student_id(self):\n",
    "        return self.student_id\n",
    "    def get_korean_quiz(self):\n",
    "        return self.korean_quiz\n",
    "    def get_math_quiz(self):\n",
    "        return self.math_quiz\n",
    "    def get_science_quiz(self):\n",
    "        return self.science_quiz\n",
    "    \n",
    "    def set_korean_quiz(self, score):\n",
    "        self.korean_quiz=score\n",
    "        self.total_score+=score\n",
    "    def set_math_quiz(self, score):\n",
    "        self.math_quiz=score\n",
    "        self.total_score+=score\n",
    "    def set_science_quiz(self, score):\n",
    "        self.science_quiz=score\n",
    "        self.total_score+=score\n",
    "    def get_total_score(self):\n",
    "        return self.total_score\n",
    "    def get_avg_score(self):\n",
    "        return self.total_score/3\n",
    "    \n",
    "name=input(\"학생의 이름을 입력하세요: \")\n",
    "student_id=input(\"학생의 학번을 입력하세요: \")\n",
    "\n",
    "student=Student(name, student_id)\n",
    "\n",
    "korean_quiz=int(input(\"학생의 국어 성적을 입력하세요 : \"))\n",
    "math_quiz=int(input(\"학생의 수학 성적을 입력하세요 : \"))\n",
    "science_quiz=int(input(\"학생의 과학 성적을 입력하세요 : \"))\n",
    "student.set_korean_quiz(korean_quiz)\n",
    "student.set_math_quiz(math_quiz)\n",
    "student.set_science_quiz(science_quiz)\n",
    "print(student)\n",
    "    "
   ]
  },
  {
   "cell_type": "markdown",
   "id": "cd9f8a8b",
   "metadata": {},
   "source": [
    "#### "
   ]
  },
  {
   "cell_type": "code",
   "execution_count": null,
   "id": "16f9aebd",
   "metadata": {},
   "outputs": [],
   "source": []
  }
 ],
 "metadata": {
  "kernelspec": {
   "display_name": "Python 3 (ipykernel)",
   "language": "python",
   "name": "python3"
  },
  "language_info": {
   "codemirror_mode": {
    "name": "ipython",
    "version": 3
   },
   "file_extension": ".py",
   "mimetype": "text/x-python",
   "name": "python",
   "nbconvert_exporter": "python",
   "pygments_lexer": "ipython3",
   "version": "3.9.13"
  }
 },
 "nbformat": 4,
 "nbformat_minor": 5
}
