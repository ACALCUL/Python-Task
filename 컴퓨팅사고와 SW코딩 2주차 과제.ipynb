{
 "cells": [
  {
   "cell_type": "code",
   "execution_count": 20,
   "id": "6ff2d67b",
   "metadata": {},
   "outputs": [
    {
     "name": "stdout",
     "output_type": "stream",
     "text": [
      "even_list = [2, 4, 6, 8, 10]\n"
     ]
    }
   ],
   "source": [
    "even_list = [2,4,6,8,10]\n",
    "print(\"even_list =\", even_list)"
   ]
  },
  {
   "cell_type": "code",
   "execution_count": 19,
   "id": "540b5407",
   "metadata": {},
   "outputs": [
    {
     "name": "stdout",
     "output_type": "stream",
     "text": [
      "even_list = [2, 4, 6, 8, 10]\n"
     ]
    }
   ],
   "source": [
    "even_list = list(range(2,11,2))\n",
    "print(\"even_list =\", even_list)"
   ]
  },
  {
   "cell_type": "code",
   "execution_count": 18,
   "id": "8444e08f",
   "metadata": {},
   "outputs": [
    {
     "name": "stdout",
     "output_type": "stream",
     "text": [
      "nations = ['Korea', 'China', 'India', 'Nepal']\n"
     ]
    }
   ],
   "source": [
    "nations = ['Korea', 'China', 'India', 'Nepal']\n",
    "print(\"nations =\", nations)"
   ]
  },
  {
   "cell_type": "code",
   "execution_count": 17,
   "id": "d8afe417",
   "metadata": {},
   "outputs": [
    {
     "name": "stdout",
     "output_type": "stream",
     "text": [
      "friends = ['길동', '철수', '은지', '지은', '영민']\n"
     ]
    }
   ],
   "source": [
    "friends = ['길동', '철수', '은지', '지은', '영민']\n",
    "print(\"friends =\", friends)"
   ]
  },
  {
   "cell_type": "code",
   "execution_count": 21,
   "id": "9f0054ed",
   "metadata": {},
   "outputs": [
    {
     "name": "stdout",
     "output_type": "stream",
     "text": [
      "string = ['X', 'Y', 'Z']\n"
     ]
    }
   ],
   "source": [
    "string = ['X', 'Y', 'Z']\n",
    "print(\"string =\", string)"
   ]
  },
  {
   "cell_type": "code",
   "execution_count": 22,
   "id": "a09bca7f",
   "metadata": {},
   "outputs": [
    {
     "name": "stdout",
     "output_type": "stream",
     "text": [
      "prime_list의 마지막 원소 :  2\n"
     ]
    }
   ],
   "source": [
    "prime_list = [2,3,5,7]\n",
    "print(\"prime_list의 마지막 원소 : \", prime_list[0])"
   ]
  },
  {
   "cell_type": "code",
   "execution_count": 25,
   "id": "f74d422d",
   "metadata": {},
   "outputs": [
    {
     "name": "stdout",
     "output_type": "stream",
     "text": [
      "prime_list의 마지막 원소 :  7\n"
     ]
    }
   ],
   "source": [
    "print(\"prime_list의 마지막 원소 : \", prime_list[3])"
   ]
  },
  {
   "cell_type": "code",
   "execution_count": 26,
   "id": "93249a11",
   "metadata": {},
   "outputs": [
    {
     "name": "stdout",
     "output_type": "stream",
     "text": [
      "nations의 첫 원소 : Korea\n"
     ]
    }
   ],
   "source": [
    "nations = ['Korea', 'China', 'Russia', 'Malaysia']\n",
    "print(\"nations의 첫 원소 :\", nations[0])"
   ]
  },
  {
   "cell_type": "code",
   "execution_count": 27,
   "id": "29c83354",
   "metadata": {},
   "outputs": [
    {
     "name": "stdout",
     "output_type": "stream",
     "text": [
      "nations의 마지막 원소 : Malaysia\n"
     ]
    }
   ],
   "source": [
    "print(\"nations의 마지막 원소 :\", nations[-1])"
   ]
  },
  {
   "cell_type": "code",
   "execution_count": 28,
   "id": "f610d713",
   "metadata": {},
   "outputs": [
    {
     "name": "stdout",
     "output_type": "stream",
     "text": [
      "nations의 마지막 원소 : Malaysia\n"
     ]
    }
   ],
   "source": [
    "print(\"nations의 마지막 원소 :\", nations[len(nations)-1])"
   ]
  },
  {
   "cell_type": "code",
   "execution_count": 29,
   "id": "ad8ddd10",
   "metadata": {},
   "outputs": [
    {
     "name": "stdout",
     "output_type": "stream",
     "text": [
      "소수 목록 : [2, 3, 5, 7]\n",
      "추가 후 소수 목록 : [2, 3, 5, 7, 11]\n"
     ]
    }
   ],
   "source": [
    "prime_list = [2, 3, 5, 7]\n",
    "print(\"소수 목록 :\", prime_list)\n",
    "prime_list.append(11)\n",
    "print(\"추가 후 소수 목록 :\", prime_list)"
   ]
  },
  {
   "cell_type": "code",
   "execution_count": 30,
   "id": "0efb0fd4",
   "metadata": {},
   "outputs": [
    {
     "name": "stdout",
     "output_type": "stream",
     "text": [
      "삭제 전 소수 목록 : [2, 3, 5, 7, 11]\n",
      "삭제 후 소수 목록 : [2, 5, 7, 11]\n"
     ]
    }
   ],
   "source": [
    "print(\"삭제 전 소수 목록 :\", prime_list)\n",
    "prime_list.remove(3)\n",
    "print(\"삭제 후 소수 목록 :\", prime_list)"
   ]
  },
  {
   "cell_type": "code",
   "execution_count": 31,
   "id": "70aa31cf",
   "metadata": {},
   "outputs": [
    {
     "name": "stdout",
     "output_type": "stream",
     "text": [
      "국가 목록 : ['Korea', 'China', 'Russia', 'Malaysia']\n",
      "추가 후 국가 목록 : ['Korea', 'China', 'Russia', 'Malaysia', 'Nepal']\n"
     ]
    }
   ],
   "source": [
    "nations=['Korea', 'China', 'Russia', 'Malaysia']\n",
    "print(\"국가 목록 :\", nations)\n",
    "nations.append('Nepal')\n",
    "print(\"추가 후 국가 목록 :\", nations)"
   ]
  },
  {
   "cell_type": "code",
   "execution_count": 35,
   "id": "58d4dab0",
   "metadata": {},
   "outputs": [
    {
     "name": "stdout",
     "output_type": "stream",
     "text": [
      "Japan 는(은) 국가 목록에 없습니다.\n",
      "Russia 는(은) 국가 목록에 있습니다.\n"
     ]
    }
   ],
   "source": [
    "if 'Japan' not in nations:\n",
    "    print(\"Japan 는(은) 국가 목록에 없습니다.\")\n",
    "else:\n",
    "    print(\"Japan 는(은) 국가 목록에 있습니다.\")\n",
    "    \n",
    "if 'Russia' not in nations:\n",
    "    print(\"Russia 는(은) 국가 목록에 없습니다.\")\n",
    "else:\n",
    "    print(\"Russia 는(은) 국가 목록에 있습니다.\")\n",
    "    "
   ]
  },
  {
   "cell_type": "code",
   "execution_count": 1,
   "id": "ead28224",
   "metadata": {},
   "outputs": [
    {
     "name": "stdout",
     "output_type": "stream",
     "text": [
      "1에서 10까지의 소수 : [2, 3, 5, 7]\n",
      "최솟값 : 2\n",
      "최댓값 : 7\n",
      "합계 : 17\n",
      "평균 : 4.25\n"
     ]
    }
   ],
   "source": [
    "prime_list=[2,3,5,7]\n",
    "print(\"1에서 10까지의 소수 :\", prime_list)\n",
    "print(\"최솟값 :\", min(prime_list))\n",
    "print(\"최댓값 :\", max(prime_list))\n",
    "print(\"합계 :\", sum(prime_list))\n",
    "print(\"평균 :\", sum(prime_list)/len(prime_list))"
   ]
  },
  {
   "cell_type": "code",
   "execution_count": 3,
   "id": "459aaffb",
   "metadata": {},
   "outputs": [
    {
     "name": "stdout",
     "output_type": "stream",
     "text": [
      "국가 목록 : ['Korea', 'China', 'Russia', 'Malaysia']\n",
      "사전에 가장 먼저 나오는 나라 : China\n",
      "사전에 가장 뒤에 나오는 나라 : Russia\n"
     ]
    }
   ],
   "source": [
    "nations=['Korea', 'China', 'Russia', 'Malaysia']\n",
    "print(\"국가 목록 :\", nations)\n",
    "print(\"사전에 가장 먼저 나오는 나라 :\", min(nations))\n",
    "print(\"사전에 가장 뒤에 나오는 나라 :\", max(nations))"
   ]
  },
  {
   "cell_type": "code",
   "execution_count": 4,
   "id": "de4b3960",
   "metadata": {},
   "outputs": [
    {
     "data": {
      "text/plain": [
       "[1, 2, 3, [10, 20, 30]]"
      ]
     },
     "execution_count": 4,
     "metadata": {},
     "output_type": "execute_result"
    }
   ],
   "source": [
    "a=[1,2,3]\n",
    "b=[10,20,30]\n",
    "a.append(b)\n",
    "a"
   ]
  },
  {
   "cell_type": "code",
   "execution_count": 12,
   "id": "45aae970",
   "metadata": {},
   "outputs": [
    {
     "data": {
      "text/plain": [
       "[1, 2, 3, 10, 20, 30]"
      ]
     },
     "execution_count": 12,
     "metadata": {},
     "output_type": "execute_result"
    }
   ],
   "source": [
    "a=[1,2,3]\n",
    "b=[10,20,30]\n",
    "a.extend(b)\n",
    "a"
   ]
  },
  {
   "cell_type": "code",
   "execution_count": 13,
   "id": "8466d151",
   "metadata": {},
   "outputs": [
    {
     "name": "stdout",
     "output_type": "stream",
     "text": [
      "nlist = [1, 2, 3, 4, 5, 6, 7, 8, 9, 10]\n"
     ]
    }
   ],
   "source": [
    "nlist = list(range(1,11))\n",
    "print('nlist =', nlist)"
   ]
  },
  {
   "cell_type": "code",
   "execution_count": 21,
   "id": "24be6213",
   "metadata": {},
   "outputs": [
    {
     "name": "stdout",
     "output_type": "stream",
     "text": [
      "nlist = [0, 1, 2, 3, 4, 5, 6, 7, 8, 9, 10]\n"
     ]
    }
   ],
   "source": [
    "nlist = list(range(1,11))\n",
    "nlist.insert(0,0)\n",
    "print('nlist =', nlist)"
   ]
  },
  {
   "cell_type": "code",
   "execution_count": 22,
   "id": "65062655",
   "metadata": {},
   "outputs": [
    {
     "name": "stdout",
     "output_type": "stream",
     "text": [
      "nlist = [10, 9, 8, 7, 6, 5, 4, 3, 2, 1, 0]\n"
     ]
    }
   ],
   "source": [
    "nlist.reverse()\n",
    "print('nlist =', nlist)"
   ]
  },
  {
   "cell_type": "code",
   "execution_count": 24,
   "id": "a2f69f0c",
   "metadata": {},
   "outputs": [
    {
     "name": "stdout",
     "output_type": "stream",
     "text": [
      "마지막 원소 = 0\n",
      "nlist = [10, 9, 8, 7, 6, 5, 4, 3, 2, 1]\n"
     ]
    }
   ],
   "source": [
    "print('마지막 원소 =', nlist.pop())\n",
    "print('nlist =', nlist)"
   ]
  },
  {
   "cell_type": "code",
   "execution_count": 32,
   "id": "11ef843e",
   "metadata": {},
   "outputs": [
    {
     "name": "stdout",
     "output_type": "stream",
     "text": [
      "반복할 정수를 입력하시오 :4\n",
      "[1, 2, 3, 1, 2, 3, 1, 2, 3, 1, 2, 3]\n"
     ]
    }
   ],
   "source": [
    "n=int(input('반복할 정수를 입력하시오 :'))\n",
    "print([1,2,3]*n)"
   ]
  },
  {
   "cell_type": "code",
   "execution_count": 33,
   "id": "dbe2460b",
   "metadata": {},
   "outputs": [
    {
     "name": "stdout",
     "output_type": "stream",
     "text": [
      "n_list = [0, 1, 2, 3, 4, 5, 6, 7, 8, 9, 10, 11, 12, 13, 14]\n"
     ]
    }
   ],
   "source": [
    "n_list = list(range(15))\n",
    "print(\"n_list =\", n_list)"
   ]
  },
  {
   "cell_type": "code",
   "execution_count": 39,
   "id": "10081fdb",
   "metadata": {},
   "outputs": [
    {
     "name": "stdout",
     "output_type": "stream",
     "text": [
      "s_list1 = [0, 1, 2, 3, 4]\n",
      "s_list2 = [5, 6, 7, 8, 9, 10]\n",
      "s_list3 = [11, 12, 13, 14]\n",
      "s_list4 = [2, 4, 6, 8, 10]\n",
      "s_list5 = [10, 9, 8, 7, 6]\n",
      "s_list6 = [10, 8, 6, 4, 2]\n"
     ]
    }
   ],
   "source": [
    "s_list1 = n_list[:5]\n",
    "print('s_list1 =', s_list1)\n",
    "s_list2 = n_list[5:11]\n",
    "print('s_list2 =', s_list2)\n",
    "s_list3 = n_list[11:15]\n",
    "print('s_list3 =', s_list3)\n",
    "s_list4 = n_list[2:11:2]\n",
    "print('s_list4 =', s_list4)\n",
    "s_list5 = n_list[10:5:-1]\n",
    "print('s_list5 =', s_list5)\n",
    "s_list6 = n_list[10:1:-2]\n",
    "print('s_list6 =', s_list6)"
   ]
  },
  {
   "cell_type": "code",
   "execution_count": 45,
   "id": "1f334085",
   "metadata": {},
   "outputs": [
    {
     "name": "stdout",
     "output_type": "stream",
     "text": [
      "Seoul\n",
      "Beijing\n",
      "washington DC\n"
     ]
    }
   ],
   "source": [
    "capital_dic = {'Korea':'Seoul', 'China':'Beijing', 'USA':'washington DC'}\n",
    "print(capital_dic['Korea'])\n",
    "print(capital_dic['China'])\n",
    "print(capital_dic['USA'])"
   ]
  },
  {
   "cell_type": "code",
   "execution_count": 47,
   "id": "09d2d322",
   "metadata": {},
   "outputs": [
    {
     "name": "stdout",
     "output_type": "stream",
     "text": [
      "apple의 가격은 5000원입니다\n",
      "banana의 가격은 4000원입니다\n",
      "grape의 가격은 5300원입니다\n",
      "melon의 가격은 6500원입니다\n"
     ]
    }
   ],
   "source": [
    "fruits_dic={'apple':5000, 'banana':4000, 'grape': 5300, 'melon':6500}\n",
    "print(\"apple의 가격은 {0}원입니다\".format(fruits_dic['apple']) )\n",
    "print(\"banana의 가격은 {0}원입니다\".format(fruits_dic['banana']) )\n",
    "print(\"grape의 가격은 {0}원입니다\".format(fruits_dic['grape']) )\n",
    "print(\"melon의 가격은 {0}원입니다\".format(fruits_dic['melon']) )"
   ]
  },
  {
   "cell_type": "code",
   "execution_count": 49,
   "id": "87292f26",
   "metadata": {},
   "outputs": [
    {
     "name": "stdout",
     "output_type": "stream",
     "text": [
      "{'이름': '홍길동', '나이': 26, '몸무게': 82, '특기': '분신술'}\n"
     ]
    }
   ],
   "source": [
    "person = {'이름':'홍길동', '나이':26, '몸무게':82, '특기':'분신술'}\n",
    "print(person)"
   ]
  },
  {
   "cell_type": "code",
   "execution_count": 50,
   "id": "b2fb0a17",
   "metadata": {},
   "outputs": [
    {
     "name": "stdout",
     "output_type": "stream",
     "text": [
      "{'이름': '홍길동', '나이': 26, '몸무게': 82, '특기': '분신술', '아버지': '홍판서'}\n"
     ]
    }
   ],
   "source": [
    "person['아버지']='홍판서'\n",
    "print(person)"
   ]
  },
  {
   "cell_type": "code",
   "execution_count": 51,
   "id": "8bf1a7d2",
   "metadata": {},
   "outputs": [
    {
     "name": "stdout",
     "output_type": "stream",
     "text": [
      "{'이름': '홍길동', '몸무게': 82, '특기': '분신술', '아버지': '홍판서'}\n"
     ]
    }
   ],
   "source": [
    "del person['나이']\n",
    "print(person)"
   ]
  },
  {
   "cell_type": "code",
   "execution_count": 53,
   "id": "cb59cfc5",
   "metadata": {},
   "outputs": [
    {
     "name": "stdout",
     "output_type": "stream",
     "text": [
      "True\n",
      "True\n",
      "False\n",
      "False\n"
     ]
    }
   ],
   "source": [
    "capital_dic={'Korea':'Seoul', 'China':'Beijing', 'USA':'washington DC'}\n",
    "print('Korea' in capital_dic)\n",
    "print('China' in capital_dic)\n",
    "print('Indonesia' in capital_dic)\n",
    "print('Beijing' in capital_dic)"
   ]
  },
  {
   "cell_type": "code",
   "execution_count": 64,
   "id": "dbebda00",
   "metadata": {},
   "outputs": [
    {
     "name": "stdout",
     "output_type": "stream",
     "text": [
      "dict_keys(['apple', 'melon', 'banana', 'orange'])\n",
      "dict_values([6000, 3000, 5000, 7000])\n",
      "fruits_dic : {'melon': 3000, 'banana': 5000, 'orange': 7000}\n",
      "fruits_dic : {}\n"
     ]
    }
   ],
   "source": [
    "fruits_dic={'apple':6000, 'melon': 3000, 'banana':5000, 'orange': 7000}\n",
    "\n",
    "print(fruits_dic.keys())\n",
    "\n",
    "print(fruits_dic.values())\n",
    "\n",
    "fruits_dic.pop('apple')\n",
    "print('fruits_dic :', fruits_dic)\n",
    "\n",
    "fruits_dic.clear()\n",
    "print('fruits_dic :', fruits_dic)"
   ]
  },
  {
   "cell_type": "code",
   "execution_count": 71,
   "id": "9c2461fd",
   "metadata": {},
   "outputs": [
    {
     "name": "stdout",
     "output_type": "stream",
     "text": [
      "['apple', 'melon', 'banana', 'orange']\n"
     ]
    }
   ],
   "source": [
    "fruits_dic={'apple':6000, 'melon': 3000, 'banana':5000, 'orange': 4000}\n",
    "list1=list(fruits_dic.keys())\n",
    "print(list1)"
   ]
  },
  {
   "cell_type": "code",
   "execution_count": 72,
   "id": "ffe4426b",
   "metadata": {},
   "outputs": [
    {
     "name": "stdout",
     "output_type": "stream",
     "text": [
      "[6000, 3000, 5000, 4000]\n"
     ]
    }
   ],
   "source": [
    "list2=list(fruits_dic.values())\n",
    "print(list2)"
   ]
  },
  {
   "cell_type": "code",
   "execution_count": 75,
   "id": "5134fd28",
   "metadata": {},
   "outputs": [
    {
     "name": "stdout",
     "output_type": "stream",
     "text": [
      "fruit_dic 딕셔너리의 항목의 개수 : 4\n"
     ]
    }
   ],
   "source": [
    "fruits_dic={'apple':6000, 'melon': 3000, 'banana':5000, 'orange': 4000}\n",
    "print('fruit_dic 딕셔너리의 항목의 개수 :', len(fruits_dic))"
   ]
  },
  {
   "cell_type": "code",
   "execution_count": 77,
   "id": "26a01a69",
   "metadata": {},
   "outputs": [
    {
     "name": "stdout",
     "output_type": "stream",
     "text": [
      "apple is in fruits_dic.\n",
      "mango is not in fruits_dic\n"
     ]
    }
   ],
   "source": [
    "if 'apple' in fruits_dic:\n",
    "    print(\"apple is in fruits_dic.\")\n",
    "else:\n",
    "    print(\"apple is not in fruits_dic\")\n",
    "    \n",
    "if 'mango' in fruits_dic:\n",
    "    print(\"mango is in fruits_dic.\")\n",
    "else:\n",
    "    print(\"mango is not in fruits_dic\")\n",
    "    "
   ]
  },
  {
   "cell_type": "code",
   "execution_count": 78,
   "id": "116c7a52",
   "metadata": {},
   "outputs": [
    {
     "name": "stdout",
     "output_type": "stream",
     "text": [
      "1919년 3월 1일은 삼일절입니다.\n"
     ]
    }
   ],
   "source": [
    "the_day=(1919, 3, 1)\n",
    "year, month, day = the_day\n",
    "print(\"%d년 %d월 %d일은 삼일절입니다.\" % (year, month, day))"
   ]
  },
  {
   "cell_type": "code",
   "execution_count": 79,
   "id": "fc807ee8",
   "metadata": {},
   "outputs": [
    {
     "name": "stdout",
     "output_type": "stream",
     "text": [
      "a = 10\n",
      "b = 20\n",
      "c = 30\n"
     ]
    }
   ],
   "source": [
    "list_for_tuple=[10,20,30]\n",
    "tuple_by_list= tuple(list_for_tuple)\n",
    "a, b, c = tuple_by_list\n",
    "print('a =', a)\n",
    "print('b =', b)\n",
    "print('c =', c)"
   ]
  },
  {
   "cell_type": "code",
   "execution_count": 80,
   "id": "a9af10c2",
   "metadata": {},
   "outputs": [
    {
     "name": "stdout",
     "output_type": "stream",
     "text": [
      "person = ('홍길동', 2019001, 179)\n"
     ]
    }
   ],
   "source": [
    "person = ('홍길동', 2019001, 179)\n",
    "print('person =', person)"
   ]
  },
  {
   "cell_type": "code",
   "execution_count": 85,
   "id": "330266c9",
   "metadata": {},
   "outputs": [],
   "source": [
    "#person[1]=2019003 실행시 TypeError: 'tuple' object does not support item assignment가 출력됨"
   ]
  },
  {
   "cell_type": "code",
   "execution_count": 87,
   "id": "bcc4a387",
   "metadata": {},
   "outputs": [
    {
     "name": "stdout",
     "output_type": "stream",
     "text": [
      "학적 변동 후 person = ('홍길동', 2020003, 179)\n"
     ]
    }
   ],
   "source": [
    "list_person=list(person)\n",
    "list_person[1]=2020003\n",
    "person=tuple(list_person)\n",
    "print('학적 변동 후 person =', person)"
   ]
  },
  {
   "cell_type": "code",
   "execution_count": 90,
   "id": "cad420ba",
   "metadata": {},
   "outputs": [
    {
     "name": "stdout",
     "output_type": "stream",
     "text": [
      "10 제곱 = 100, 20 제곱 = 400\n"
     ]
    }
   ],
   "source": [
    "def square(x,y):\n",
    "    a=x**2\n",
    "    b=y**2\n",
    "    return a,b\n",
    "x=10\n",
    "y=20\n",
    "x_sq, y_sq=square(x,y)\n",
    "print('{} 제곱 = {}, {} 제곱 = {}'.format(x, x_sq, y, y_sq))"
   ]
  },
  {
   "cell_type": "code",
   "execution_count": 91,
   "id": "043dfa70",
   "metadata": {},
   "outputs": [
    {
     "data": {
      "text/plain": [
       "(10, 20, 30, 40, 50, 60)"
      ]
     },
     "execution_count": 91,
     "metadata": {},
     "output_type": "execute_result"
    }
   ],
   "source": [
    "(10, 20, 30) + (40, 50, 60)"
   ]
  },
  {
   "cell_type": "code",
   "execution_count": 92,
   "id": "11e65513",
   "metadata": {},
   "outputs": [
    {
     "name": "stdout",
     "output_type": "stream",
     "text": [
      "Hello Hello Hello \n",
      "('Hello ', 'Hello ', 'Hello ')\n"
     ]
    }
   ],
   "source": [
    "print('Hello '*3)\n",
    "print(('Hello ',)*3)"
   ]
  },
  {
   "cell_type": "code",
   "execution_count": 94,
   "id": "4d7b5b5e",
   "metadata": {},
   "outputs": [
    {
     "name": "stdout",
     "output_type": "stream",
     "text": [
      "lst = ['apple', 'mango', 'banana']\n",
      "s1 = {'banana', 'apple', 'mango'}\n"
     ]
    }
   ],
   "source": [
    "lst = ['apple', 'mango', 'banana']\n",
    "print('lst =', lst)\n",
    "\n",
    "s1=set(lst)\n",
    "print('s1 =', s1)"
   ]
  },
  {
   "cell_type": "code",
   "execution_count": 96,
   "id": "93698361",
   "metadata": {},
   "outputs": [
    {
     "name": "stdout",
     "output_type": "stream",
     "text": [
      "greet = Good afternoon\n",
      "s2 = {'G', 'd', 'e', 't', 'a', 'n', 'o', 'r', 'f', ' '}\n"
     ]
    }
   ],
   "source": [
    "greet = 'Good afternoon'\n",
    "print('greet =', greet)\n",
    "\n",
    "s2 = set(greet)\n",
    "print('s2 =', s2)"
   ]
  },
  {
   "cell_type": "code",
   "execution_count": 98,
   "id": "c24f24c5",
   "metadata": {},
   "outputs": [
    {
     "name": "stdout",
     "output_type": "stream",
     "text": [
      "1) {70, 40, 10, 50, 20, 60, 30}\n",
      "2) {40, 30}\n",
      "3) {10, 20}\n",
      "4) {50, 20, 70, 10, 60}\n",
      "5) False\n",
      "6) False\n",
      "7) False\n"
     ]
    }
   ],
   "source": [
    "s1={10,20,30,40}\n",
    "s2={30,40,50,60,70}\n",
    "print('1)',s1 | s2)\n",
    "print('2)',s1 & s2)\n",
    "print('3)',s1-s2)\n",
    "print('4)',s1 ^ s2)\n",
    "print('5)',s1.issubset(s2))\n",
    "print('6)',s1.issuperset(s2))\n",
    "print('7)',s1.isdisjoint(s2))"
   ]
  },
  {
   "cell_type": "code",
   "execution_count": 104,
   "id": "bdc0d42d",
   "metadata": {},
   "outputs": [
    {
     "name": "stdout",
     "output_type": "stream",
     "text": [
      "AXB = {(1, 'C'), (2, 'B'), (1, 'A'), (2, 'C'), (2, 'A'), (1, 'B')}\n",
      "BXA = {('A', 1), ('B', 1), ('A', 2), ('C', 1), ('C', 2), ('B', 2)}\n",
      "AXA = {(1, 1), (1, 2), (2, 1), (2, 2)}\n",
      "BXB = {('A', 'A'), ('B', 'B'), ('B', 'C'), ('B', 'A'), ('C', 'B'), ('C', 'C'), ('A', 'B'), ('C', 'A'), ('A', 'C')}\n"
     ]
    }
   ],
   "source": [
    "def product_set(set1, set2):\n",
    "    result_set=set()\n",
    "    for i in set1:\n",
    "        for j in set2:\n",
    "            result_set=result_set|{(i, j)}\n",
    "    return result_set\n",
    "\n",
    "A={1,2}\n",
    "B={'A', 'B', 'C'}\n",
    "\n",
    "print('AXB =', product_set(A,B))\n",
    "print('BXA =', product_set(B,A))\n",
    "print('AXA =', product_set(A,A))\n",
    "print('BXB =', product_set(B,B))\n",
    "\n"
   ]
  },
  {
   "cell_type": "code",
   "execution_count": 115,
   "id": "7ec60df4",
   "metadata": {},
   "outputs": [
    {
     "name": "stdout",
     "output_type": "stream",
     "text": [
      "1. 주사위를 세번 던져 발생할 수 있는 사건은 216 가지 경우가 존재합니다.\n",
      "2. 주사위를 세 번 던져 나온 눈의 합이 10 이상인 경우는 135 가지입니다.\n",
      "3번\n",
      "눈의 합으로  3 이상을 얻을 확률 100.00%\n",
      "눈의 합으로  4 이상을 얻을 확률 99.54%\n",
      "눈의 합으로  5 이상을 얻을 확률 98.15%\n",
      "눈의 합으로  6 이상을 얻을 확률 95.37%\n",
      "눈의 합으로  7 이상을 얻을 확률 90.74%\n",
      "눈의 합으로  8 이상을 얻을 확률 83.80%\n",
      "눈의 합으로  9 이상을 얻을 확률 74.07%\n",
      "눈의 합으로 10 이상을 얻을 확률 62.50%\n",
      "눈의 합으로 11 이상을 얻을 확률 50.00%\n",
      "눈의 합으로 12 이상을 얻을 확률 37.50%\n",
      "눈의 합으로 13 이상을 얻을 확률 25.93%\n",
      "눈의 합으로 14 이상을 얻을 확률 16.20%\n",
      "눈의 합으로 15 이상을 얻을 확률  9.26%\n",
      "눈의 합으로 16 이상을 얻을 확률  4.63%\n",
      "눈의 합으로 17 이상을 얻을 확률  1.85%\n",
      "눈의 합으로 18 이상을 얻을 확률  0.46%\n"
     ]
    }
   ],
   "source": [
    "def product_set(set1, set2):\n",
    "    result = set()\n",
    "    for i in set1:\n",
    "        for j in set2:\n",
    "            result = result | {(i, j)}\n",
    "    return result\n",
    "\n",
    "def tuple_sum(tup):\n",
    "    if isinstance(tup, int):\n",
    "        return tup\n",
    "    else:\n",
    "        accum = 0\n",
    "        for element in tup:\n",
    "            accum += tuple_sum(element)\n",
    "    return accum\n",
    "\n",
    "def exp(input_set, exponent):\n",
    "    res = input_set\n",
    "    for _ in range(exponenet-1):\n",
    "        res=product_set(res, input_set)\n",
    "    return res\n",
    "\n",
    "dice = {1, 2, 3, 4, 5, 6}\n",
    "dice_two = product_set(dice, dice)\n",
    "dice_three = product_set(dice, dice_two)\n",
    "number_1=0\n",
    "\n",
    "for i in dice_three:\n",
    "    number_1 +=1\n",
    "print(\"1. 주사위를 세번 던져 발생할 수 있는 사건은 {} 가지 경우가 존재합니다.\".format(number_1))\n",
    "\n",
    "sums=[tuple_sum(i) for i in dice_three]\n",
    "number_2=0\n",
    "for i in sums:\n",
    "    if i>=10:\n",
    "        number_2+=1\n",
    "print('2. 주사위를 세 번 던져 나온 눈의 합이 10 이상인 경우는 %d 가지입니다.' % number_2)\n",
    "\n",
    "print('3번')\n",
    "for i in range(3,19):\n",
    "    number=0\n",
    "    for j in sums:\n",
    "        if j>=i:\n",
    "            number+=1\n",
    "    number_3=number/number_1*100\n",
    "    print('눈의 합으로 %2d 이상을 얻을 확률 %5.2f%%' %(i, number_3))\n",
    "    \n",
    "        \n",
    "\n"
   ]
  },
  {
   "cell_type": "code",
   "execution_count": null,
   "id": "e56e15e2",
   "metadata": {},
   "outputs": [],
   "source": []
  }
 ],
 "metadata": {
  "kernelspec": {
   "display_name": "Python 3 (ipykernel)",
   "language": "python",
   "name": "python3"
  },
  "language_info": {
   "codemirror_mode": {
    "name": "ipython",
    "version": 3
   },
   "file_extension": ".py",
   "mimetype": "text/x-python",
   "name": "python",
   "nbconvert_exporter": "python",
   "pygments_lexer": "ipython3",
   "version": "3.9.12"
  }
 },
 "nbformat": 4,
 "nbformat_minor": 5
}
