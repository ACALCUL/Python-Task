{
 "cells": [
  {
   "cell_type": "code",
   "execution_count": 13,
   "id": "2ff62f58",
   "metadata": {},
   "outputs": [
    {
     "data": {
      "text/plain": [
       "array([0, 1, 2, 3, 4, 5, 6, 7, 8, 9])"
      ]
     },
     "execution_count": 13,
     "metadata": {},
     "output_type": "execute_result"
    }
   ],
   "source": [
    "import numpy as np\n",
    "a=np.array([0,1,2,3,4,5,6,7,8,9])\n",
    "a"
   ]
  },
  {
   "cell_type": "code",
   "execution_count": 14,
   "id": "046fdf99",
   "metadata": {},
   "outputs": [
    {
     "data": {
      "text/plain": [
       "array([0, 1, 2, 3, 4, 5, 6, 7, 8, 9])"
      ]
     },
     "execution_count": 14,
     "metadata": {},
     "output_type": "execute_result"
    }
   ],
   "source": [
    "import numpy as np\n",
    "b=np.array([i for i in range(10)])\n",
    "b"
   ]
  },
  {
   "cell_type": "code",
   "execution_count": 20,
   "id": "c59a5abf",
   "metadata": {},
   "outputs": [
    {
     "data": {
      "text/plain": [
       "array([0, 2, 4, 6, 8])"
      ]
     },
     "execution_count": 20,
     "metadata": {},
     "output_type": "execute_result"
    }
   ],
   "source": [
    "import numpy as np\n",
    "c=np.array([i for i in range(0, 10,2 )])\n",
    "c"
   ]
  },
  {
   "cell_type": "code",
   "execution_count": 23,
   "id": "d62e30af",
   "metadata": {},
   "outputs": [
    {
     "name": "stdout",
     "output_type": "stream",
     "text": [
      "c.shape= (5,)\n",
      "c.ndim= 1\n",
      "c.dtype= int32\n",
      "c.size= 5\n",
      "c.itemsize= 4\n"
     ]
    }
   ],
   "source": [
    "print('c.shape=',c.shape)\n",
    "print('c.ndim=',c.ndim)\n",
    "print('c.dtype=',c.dtype)\n",
    "print('c.size=',c.size)\n",
    "print('c.itemsize=',c.itemsize)"
   ]
  },
  {
   "cell_type": "code",
   "execution_count": 29,
   "id": "8dd6b21c",
   "metadata": {},
   "outputs": [
    {
     "name": "stdout",
     "output_type": "stream",
     "text": [
      "a = array([23 45 67  7  2 30 34 82])\n"
     ]
    }
   ],
   "source": [
    "a=np.array([23,45,67,7,2,30,34,82])\n",
    "print('a = array('+str(a)+')')"
   ]
  },
  {
   "cell_type": "code",
   "execution_count": 31,
   "id": "d241714a",
   "metadata": {},
   "outputs": [
    {
     "name": "stdout",
     "output_type": "stream",
     "text": [
      "최댓값 : 82\n",
      "최솟값 : 2\n",
      "평균 : 36.25\n"
     ]
    }
   ],
   "source": [
    "print('최댓값 :', a.max())\n",
    "print('최솟값 :', a.min())\n",
    "print('평균 :', a.mean())"
   ]
  },
  {
   "cell_type": "code",
   "execution_count": 34,
   "id": "0d6f1528",
   "metadata": {},
   "outputs": [
    {
     "name": "stdout",
     "output_type": "stream",
     "text": [
      "최댓값 : 95\n",
      "최솟값 : 22\n",
      "평균 : 56.5\n"
     ]
    }
   ],
   "source": [
    "b=np.random.randint(0, 99, size=10)\n",
    "print('최댓값 :', b.max())\n",
    "print('최솟값 :', b.min())\n",
    "print('평균 :', b.mean())"
   ]
  },
  {
   "cell_type": "code",
   "execution_count": 36,
   "id": "27968c97",
   "metadata": {},
   "outputs": [
    {
     "name": "stdout",
     "output_type": "stream",
     "text": [
      "c = [23 45 67  7  2 30 34 82 52 22 77 44 90 78 37 26 95 44]\n"
     ]
    }
   ],
   "source": [
    "c=np.append(a, b)\n",
    "print('c =', c)"
   ]
  },
  {
   "cell_type": "code",
   "execution_count": 43,
   "id": "a57fbc3b",
   "metadata": {},
   "outputs": [
    {
     "name": "stdout",
     "output_type": "stream",
     "text": [
      "a\n",
      " [[1 2 3]\n",
      " [4 5 6]\n",
      " [7 8 9]]\n",
      "b\n",
      " [[2 2 2]\n",
      " [2 2 2]\n",
      " [2 2 2]]\n"
     ]
    }
   ],
   "source": [
    "a=np.array([[1,2,3],[4,5,6],[7,8,9]])\n",
    "b=np.array([[2,2,2],[2,2,2],[2,2,2]])\n",
    "print('a\\n',a)\n",
    "print('b\\n',b)"
   ]
  },
  {
   "cell_type": "code",
   "execution_count": 47,
   "id": "258dd154",
   "metadata": {},
   "outputs": [
    {
     "name": "stdout",
     "output_type": "stream",
     "text": [
      "\n",
      "1. a+b\n",
      " [[ 3  4  5]\n",
      " [ 6  7  8]\n",
      " [ 9 10 11]]\n",
      "\n",
      "2. a-b\n",
      " [[-1  0  1]\n",
      " [ 2  3  4]\n",
      " [ 5  6  7]]\n",
      "\n",
      "3. a*b\n",
      " [[ 2  4  6]\n",
      " [ 8 10 12]\n",
      " [14 16 18]]\n",
      "\n",
      "4. a/b\n",
      " [[0.5 1.  1.5]\n",
      " [2.  2.5 3. ]\n",
      " [3.5 4.  4.5]]\n",
      "\n",
      "5. a@b\n",
      " [[12 12 12]\n",
      " [30 30 30]\n",
      " [48 48 48]]\n",
      "\n",
      "6. a**2\n",
      " [[ 1  4  9]\n",
      " [16 25 36]\n",
      " [49 64 81]]\n"
     ]
    }
   ],
   "source": [
    "print('\\n1. a+b\\n', a+b)\n",
    "print('\\n2. a-b\\n', a-b)\n",
    "print('\\n3. a*b\\n', a*b)\n",
    "print('\\n4. a/b\\n', a/b)\n",
    "print('\\n5. a@b\\n', a@b)\n",
    "print('\\n6. a**2\\n', a**2)"
   ]
  },
  {
   "cell_type": "code",
   "execution_count": 67,
   "id": "fffca0c0",
   "metadata": {},
   "outputs": [
    {
     "name": "stdout",
     "output_type": "stream",
     "text": [
      "a1 =\n",
      " [[2 2 2]\n",
      " [2 2 2]\n",
      " [2 2 2]]\n"
     ]
    }
   ],
   "source": [
    "a1= np.full((3,3),2)\n",
    "print('a1 =\\n', a1)"
   ]
  },
  {
   "cell_type": "code",
   "execution_count": 68,
   "id": "cfacef16",
   "metadata": {},
   "outputs": [
    {
     "name": "stdout",
     "output_type": "stream",
     "text": [
      "a2 = [ 0  1  2  3  4  5  6  7  8  9 10 11]\n"
     ]
    }
   ],
   "source": [
    "a2=np.arange(12)\n",
    "print('a2 =', a2)"
   ]
  },
  {
   "cell_type": "code",
   "execution_count": 69,
   "id": "7b767ce5",
   "metadata": {},
   "outputs": [
    {
     "name": "stdout",
     "output_type": "stream",
     "text": [
      "a3 = [ 3  6  9 12 15 18 21 24 27 30 33 36 39 42 45 48]\n"
     ]
    }
   ],
   "source": [
    "a3=np.arange(3,51, 3)\n",
    "print('a3 =', a3)"
   ]
  },
  {
   "cell_type": "code",
   "execution_count": 70,
   "id": "521f659b",
   "metadata": {},
   "outputs": [
    {
     "name": "stdout",
     "output_type": "stream",
     "text": [
      "a4 = [ 0.  5. 10. 15. 20.]\n"
     ]
    }
   ],
   "source": [
    "a4=np.linspace(0,20,5)\n",
    "print('a4 =',a4)"
   ]
  },
  {
   "cell_type": "code",
   "execution_count": 71,
   "id": "29d976ec",
   "metadata": {},
   "outputs": [
    {
     "name": "stdout",
     "output_type": "stream",
     "text": [
      "a1 =\n",
      " [[ 1  2  3  4  5  6]\n",
      " [ 7  8  9 10 11 12]]\n"
     ]
    }
   ],
   "source": [
    "a1=np.arange(1,13).reshape(2,6)\n",
    "print('a1 =\\n', a1)"
   ]
  },
  {
   "cell_type": "code",
   "execution_count": 73,
   "id": "0aeed438",
   "metadata": {},
   "outputs": [
    {
     "name": "stdout",
     "output_type": "stream",
     "text": [
      "a2 =\n",
      " [[ 1  2  3  4  5  6  7  8  9 10]\n",
      " [11 12 13 14 15 16 17 18 19 20]\n",
      " [21 22 23 24 25 26 27 28 29 30]]\n"
     ]
    }
   ],
   "source": [
    "a2=np.arange(1,31).reshape(3,10)\n",
    "print('a2 =\\n', a2)"
   ]
  },
  {
   "cell_type": "code",
   "execution_count": 74,
   "id": "44524efa",
   "metadata": {},
   "outputs": [
    {
     "name": "stdout",
     "output_type": "stream",
     "text": [
      "a3 =\n",
      " [[ 1  2  3  4  5]\n",
      " [ 6  7  8  9 10]\n",
      " [11 12 13 14 15]\n",
      " [16 17 18 19 20]\n",
      " [21 22 23 24 25]\n",
      " [26 27 28 29 30]]\n"
     ]
    }
   ],
   "source": [
    "a3=np.arange(1,31).reshape(6,5)\n",
    "print('a3 =\\n', a3)"
   ]
  },
  {
   "cell_type": "code",
   "execution_count": 75,
   "id": "2231fb02",
   "metadata": {},
   "outputs": [
    {
     "name": "stdout",
     "output_type": "stream",
     "text": [
      "a4 =\n",
      " [[ 1  6 11 16 21 26]\n",
      " [ 2  7 12 17 22 27]\n",
      " [ 3  8 13 18 23 28]\n",
      " [ 4  9 14 19 24 29]\n",
      " [ 5 10 15 20 25 30]]\n"
     ]
    }
   ],
   "source": [
    "a4=np.transpose(a3)\n",
    "print('a4 =\\n', a4)"
   ]
  },
  {
   "cell_type": "code",
   "execution_count": 76,
   "id": "e1ce7d95",
   "metadata": {},
   "outputs": [
    {
     "name": "stdout",
     "output_type": "stream",
     "text": [
      "a =\n",
      " [[24 94  3 74 93]\n",
      " [59 29  5 89 23]\n",
      " [11 60 18  9 43]]\n"
     ]
    }
   ],
   "source": [
    "a=np.random.randint(1,100, 15).reshape(3,5)\n",
    "print('a =\\n',a)\n"
   ]
  },
  {
   "cell_type": "code",
   "execution_count": 80,
   "id": "9fdc1540",
   "metadata": {},
   "outputs": [
    {
     "name": "stdout",
     "output_type": "stream",
     "text": [
      "a의 열방향 최댓값 : [59 94 18 89 93]\n",
      "a의 열방향 최솟값 : [11 29  3  9 23]\n",
      "a의 열방향 평균 : [31.33333333 61.          8.66666667 57.33333333 53.        ]\n"
     ]
    }
   ],
   "source": [
    "print('a의 열방향 최댓값 :', a.max(axis=0))\n",
    "print('a의 열방향 최솟값 :', a.min(axis=0))\n",
    "print('a의 열방향 평균 :', a.mean(axis=0))"
   ]
  },
  {
   "cell_type": "code",
   "execution_count": 81,
   "id": "a60d0235",
   "metadata": {},
   "outputs": [
    {
     "name": "stdout",
     "output_type": "stream",
     "text": [
      "a의 행방향 최댓값 : [94 89 60]\n",
      "a의 행방향 최솟값 : [3 5 9]\n",
      "a의 행방향 평균 : [57.6 41.  28.2]\n"
     ]
    }
   ],
   "source": [
    "print('a의 행방향 최댓값 :', a.max(axis=1))\n",
    "print('a의 행방향 최솟값 :', a.min(axis=1))\n",
    "print('a의 행방향 평균 :', a.mean(axis=1))"
   ]
  },
  {
   "cell_type": "code",
   "execution_count": 83,
   "id": "5674a04c",
   "metadata": {},
   "outputs": [
    {
     "name": "stdout",
     "output_type": "stream",
     "text": [
      "a = [ 1  2  3  4  5  6  7  8  9 10]\n",
      "b = [2 4 6 8]\n"
     ]
    }
   ],
   "source": [
    "a=np.array([i for i in range(1,11)])\n",
    "b=np.array([i for i in range(2,10,2)])\n",
    "print('a =', a)\n",
    "print('b =', b)"
   ]
  },
  {
   "cell_type": "code",
   "execution_count": 88,
   "id": "a9058857",
   "metadata": {},
   "outputs": [
    {
     "name": "stdout",
     "output_type": "stream",
     "text": [
      "b = [ 6  7  8  9 10]\n",
      "c = [ 7  8  9 10]\n",
      "d = [1 2 3]\n",
      "e = [1 3 5 7 9]\n",
      "f = [10  8  6  4  2]\n"
     ]
    }
   ],
   "source": [
    "b=a[5:]\n",
    "print('b =', b)\n",
    "c=a[6:]\n",
    "print('c =', c)\n",
    "d=a[:3]\n",
    "print('d =', d)\n",
    "e=a[::2]\n",
    "print('e =', e)\n",
    "f=a[::-2]\n",
    "print('f =', f)"
   ]
  },
  {
   "cell_type": "code",
   "execution_count": 139,
   "id": "e51852c1",
   "metadata": {},
   "outputs": [
    {
     "name": "stdout",
     "output_type": "stream",
     "text": [
      "index              element\n",
      "(0, 0, 0)             0\n",
      "(0, 0, 1)             1\n",
      "(0, 1, 0)             2\n",
      "(0, 1, 1)             3\n",
      "(0, 2, 0)             4\n",
      "(0, 2, 1)             5\n",
      "(1, 0, 0)             6\n",
      "(1, 0, 1)             7\n",
      "(1, 1, 0)             8\n",
      "(1, 1, 1)             9\n",
      "(1, 2, 0)             10\n",
      "(1, 2, 1)             11\n",
      "(2, 0, 0)             12\n",
      "(2, 0, 1)             13\n",
      "(2, 1, 0)             14\n",
      "(2, 1, 1)             15\n",
      "(2, 2, 0)             16\n",
      "(2, 2, 1)             17\n",
      "(3, 0, 0)             18\n",
      "(3, 0, 1)             19\n",
      "(3, 1, 0)             20\n",
      "(3, 1, 1)             21\n",
      "(3, 2, 0)             22\n",
      "(3, 2, 1)             23\n"
     ]
    }
   ],
   "source": [
    "a=np.arange(24).reshape(4,3,2)\n",
    "print('index              element')\n",
    "for i in range(4):\n",
    "    for j in range(3):\n",
    "        for k in range(2):\n",
    "            print('({}, {}, {})             {}'.format(i, j ,k, a[i,j,k]))"
   ]
  },
  {
   "cell_type": "code",
   "execution_count": 140,
   "id": "f20ddb43",
   "metadata": {},
   "outputs": [
    {
     "data": {
      "text/plain": [
       "array([0, 1, 6, 7])"
      ]
     },
     "execution_count": 140,
     "metadata": {},
     "output_type": "execute_result"
    }
   ],
   "source": [
    "np.concatenate((a[0,0], a[1,0]), axis=0)"
   ]
  },
  {
   "cell_type": "code",
   "execution_count": 141,
   "id": "dd48afa1",
   "metadata": {},
   "outputs": [
    {
     "data": {
      "text/plain": [
       "array([ 0,  1, 14, 15])"
      ]
     },
     "execution_count": 141,
     "metadata": {},
     "output_type": "execute_result"
    }
   ],
   "source": [
    "np.concatenate((a[0,0], a[2,1]), axis=0)"
   ]
  },
  {
   "cell_type": "code",
   "execution_count": 142,
   "id": "8d3436c9",
   "metadata": {},
   "outputs": [
    {
     "data": {
      "text/plain": [
       "array([[ 0,  1],\n",
       "       [ 2,  3],\n",
       "       [ 4,  5],\n",
       "       [ 6,  7],\n",
       "       [ 8,  9],\n",
       "       [10, 11]])"
      ]
     },
     "execution_count": 142,
     "metadata": {},
     "output_type": "execute_result"
    }
   ],
   "source": [
    "np.concatenate((a[0],a[1]), axis=0)"
   ]
  },
  {
   "cell_type": "code",
   "execution_count": 143,
   "id": "5785d489",
   "metadata": {},
   "outputs": [
    {
     "data": {
      "text/plain": [
       "array([[ 0,  1,  6,  7],\n",
       "       [ 2,  3,  8,  9],\n",
       "       [ 4,  5, 10, 11]])"
      ]
     },
     "execution_count": 143,
     "metadata": {},
     "output_type": "execute_result"
    }
   ],
   "source": [
    "np.concatenate((a[0],a[1]), axis=1)"
   ]
  },
  {
   "cell_type": "code",
   "execution_count": 144,
   "id": "76f8c581",
   "metadata": {},
   "outputs": [
    {
     "name": "stdout",
     "output_type": "stream",
     "text": [
      "b = [ 1  5  9 13]\n",
      "c = [ 9 10 11]\n",
      "d =\n",
      " [[0 1]\n",
      " [4 5]]\n",
      "e =\n",
      " [[ 5  6]\n",
      " [ 9 10]]\n"
     ]
    }
   ],
   "source": [
    "a=np.arange(16).reshape(4,4)\n",
    "b=a[:,1]\n",
    "print('b =', b)\n",
    "c=a[2, 1:]\n",
    "print('c =', c)\n",
    "d=a[ :2, :2]\n",
    "print('d =\\n', d)\n",
    "e=a[1:3, 1:3]\n",
    "print('e =\\n', e)"
   ]
  },
  {
   "cell_type": "code",
   "execution_count": 145,
   "id": "a4c84a16",
   "metadata": {},
   "outputs": [
    {
     "name": "stdout",
     "output_type": "stream",
     "text": [
      "f = [0 1 2 4 5 6]\n",
      "g = [ 8  9 10 11 12 13 14 15]\n",
      "h = [ 5  6  7 13 14 15]\n"
     ]
    }
   ],
   "source": [
    "f=a[:2, :3].flatten()\n",
    "print('f =', f)\n",
    "g=a[2:, :].flatten()\n",
    "print('g =', g)\n",
    "h=a[1:4:2, 1:].flatten()\n",
    "print('h =', h)"
   ]
  },
  {
   "cell_type": "code",
   "execution_count": 146,
   "id": "d39d79fc",
   "metadata": {},
   "outputs": [
    {
     "name": "stdout",
     "output_type": "stream",
     "text": [
      "x = 1.0000000000000007, y = 2.0, z = 2.9999999999999996\n"
     ]
    }
   ],
   "source": [
    "a=np.array([[1,1,-1],[2,-1,3],[1,2,1]], dtype=np.int32)\n",
    "b=np.array([0,9,8])\n",
    "c=np.linalg.solve(a,b)\n",
    "print('x = {}, y = {}, z = {}'.format(c[0], c[1], c[2]))"
   ]
  },
  {
   "cell_type": "code",
   "execution_count": 147,
   "id": "dbd63305",
   "metadata": {},
   "outputs": [
    {
     "name": "stdout",
     "output_type": "stream",
     "text": [
      "det(A) = -11.000000000000002\n"
     ]
    }
   ],
   "source": [
    "d=np.linalg.det(a)\n",
    "print('det(A) =',d)"
   ]
  },
  {
   "cell_type": "code",
   "execution_count": 153,
   "id": "d1fb1f02",
   "metadata": {},
   "outputs": [
    {
     "name": "stdout",
     "output_type": "stream",
     "text": [
      "det(A) = -11.000000000000002\n"
     ]
    }
   ],
   "source": [
    "e=a[1:, 1:]\n",
    "f=a[1:, 0:3:2]\n",
    "g=a[1:, :2]\n",
    "h=np.linalg.det(e)*a[0,0]-np.linalg.det(f)*a[0,1]+np.linalg.det(g)*a[0,2]\n",
    "print('det(A) =',h)"
   ]
  },
  {
   "cell_type": "code",
   "execution_count": null,
   "id": "4e6dc4ab",
   "metadata": {},
   "outputs": [],
   "source": []
  }
 ],
 "metadata": {
  "kernelspec": {
   "display_name": "Python 3 (ipykernel)",
   "language": "python",
   "name": "python3"
  },
  "language_info": {
   "codemirror_mode": {
    "name": "ipython",
    "version": 3
   },
   "file_extension": ".py",
   "mimetype": "text/x-python",
   "name": "python",
   "nbconvert_exporter": "python",
   "pygments_lexer": "ipython3",
   "version": "3.9.12"
  }
 },
 "nbformat": 4,
 "nbformat_minor": 5
}
