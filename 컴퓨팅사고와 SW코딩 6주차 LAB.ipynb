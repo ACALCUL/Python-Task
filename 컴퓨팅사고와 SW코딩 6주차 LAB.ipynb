{
 "cells": [
  {
   "cell_type": "code",
   "execution_count": 2,
   "id": "2badece2",
   "metadata": {},
   "outputs": [],
   "source": [
    "def print_start():\n",
    "    print(\"*******************\")\n",
    "    "
   ]
  },
  {
   "cell_type": "code",
   "execution_count": 6,
   "id": "da888c55",
   "metadata": {},
   "outputs": [
    {
     "name": "stdout",
     "output_type": "stream",
     "text": [
      "*******************\n",
      "*******************\n",
      "*******************\n",
      "*******************\n",
      "*******************\n",
      "*******************\n"
     ]
    }
   ],
   "source": [
    "def print_star():\n",
    "    print(\"*******************\")\n",
    "    \n",
    "for i in range(6):\n",
    "    print_star()"
   ]
  },
  {
   "cell_type": "code",
   "execution_count": 8,
   "id": "0dcf5b73",
   "metadata": {},
   "outputs": [
    {
     "name": "stdout",
     "output_type": "stream",
     "text": [
      "**************\n",
      "**************\n",
      "**************\n",
      "**************\n",
      "**************\n",
      "**************\n",
      "**************\n",
      "**************\n",
      "**************\n",
      "**************\n"
     ]
    }
   ],
   "source": [
    "def print_star5():\n",
    "    for i in range(5):\n",
    "        print(\"**************\")\n",
    "\n",
    "print_star5()\n",
    "print_star5()"
   ]
  },
  {
   "cell_type": "code",
   "execution_count": 10,
   "id": "1e22d148",
   "metadata": {},
   "outputs": [
    {
     "name": "stdout",
     "output_type": "stream",
     "text": [
      "######################\n",
      "**********************\n",
      "++++++++++++++++++++++\n",
      "++++++++++++++++++++++\n",
      "**********************\n",
      "######################\n"
     ]
    }
   ],
   "source": [
    "def print_star():\n",
    "    print('**********************')\n",
    "\n",
    "def print_plus():\n",
    "    print(\"++++++++++++++++++++++\")\n",
    "\n",
    "def print_hash():\n",
    "    print(\"######################\")\n",
    "\n",
    "print_hash()\n",
    "print_star()\n",
    "print_plus()\n",
    "print_plus()\n",
    "print_star()\n",
    "print_hash()\n"
   ]
  },
  {
   "cell_type": "code",
   "execution_count": 12,
   "id": "f17b12d3",
   "metadata": {},
   "outputs": [
    {
     "name": "stdout",
     "output_type": "stream",
     "text": [
      "******************\n",
      "******************\n",
      "******************\n",
      "******************\n",
      "******************\n",
      "******************\n",
      "******************\n",
      "******************\n",
      "******************\n",
      "******************\n"
     ]
    }
   ],
   "source": [
    "def print_star(n):\n",
    "    for i in range(n):\n",
    "        print(\"******************\")\n",
    "        \n",
    "print_star(10)"
   ]
  },
  {
   "cell_type": "code",
   "execution_count": 14,
   "id": "8888beb8",
   "metadata": {},
   "outputs": [
    {
     "name": "stdout",
     "output_type": "stream",
     "text": [
      "####################\n",
      "####################\n",
      "####################\n",
      "####################\n",
      "####################\n",
      "####################\n",
      "####################\n",
      "####################\n",
      "####################\n",
      "####################\n"
     ]
    }
   ],
   "source": [
    "def print_hash(n):\n",
    "    for i in range(n):\n",
    "        print(\"####################\")\n",
    "        \n",
    "print_hash(10)"
   ]
  },
  {
   "cell_type": "code",
   "execution_count": 16,
   "id": "f284edc3",
   "metadata": {},
   "outputs": [
    {
     "name": "stdout",
     "output_type": "stream",
     "text": [
      "####################\n",
      "####################\n",
      "####################\n",
      "####################\n",
      "####################\n",
      "####################\n"
     ]
    }
   ],
   "source": [
    "def print_hash(n):\n",
    "    for i in range(n):\n",
    "        print(\"####################\")\n",
    "        \n",
    "print_hash(6)"
   ]
  },
  {
   "cell_type": "code",
   "execution_count": 18,
   "id": "ba8860cf",
   "metadata": {},
   "outputs": [
    {
     "name": "stdout",
     "output_type": "stream",
     "text": [
      "0 ####################\n",
      "1 ####################\n",
      "2 ####################\n",
      "3 ####################\n",
      "4 ####################\n",
      "5 ####################\n"
     ]
    }
   ],
   "source": [
    "def print_hash(n):\n",
    "    for i in range(n):\n",
    "        print(i, \"####################\")\n",
    "        \n",
    "print_hash(6)"
   ]
  },
  {
   "cell_type": "code",
   "execution_count": 24,
   "id": "98983665",
   "metadata": {},
   "outputs": [
    {
     "name": "stdout",
     "output_type": "stream",
     "text": [
      "10과 20의 차는  -10입니다.\n"
     ]
    }
   ],
   "source": [
    "def print_sub(a,b):\n",
    "    print(\"{}과 {}의 차는 {:>4}입니다.\".format(a, b, a-b))\n",
    "    \n",
    "print_sub(10, 20)"
   ]
  },
  {
   "cell_type": "code",
   "execution_count": 27,
   "id": "0eeccf43",
   "metadata": {},
   "outputs": [
    {
     "name": "stdout",
     "output_type": "stream",
     "text": [
      "10과 20의 곱은  200입니다.\n"
     ]
    }
   ],
   "source": [
    "def print_mult(a,b):\n",
    "    print(\"{}과 {}의 곱은 {:>4}입니다.\".format(a, b, a*b))\n",
    "    \n",
    "print_mult(10, 20)"
   ]
  },
  {
   "cell_type": "code",
   "execution_count": 37,
   "id": "f0261a85",
   "metadata": {},
   "outputs": [
    {
     "name": "stdout",
     "output_type": "stream",
     "text": [
      "해는 3.0또는 -7.0\n",
      "해는 4.0또는 2.0\n"
     ]
    }
   ],
   "source": [
    "def print_root(a,b,c):\n",
    "    r1 = (-b+(b**2-4*a*c)**(1/2))/(2*a)\n",
    "    r2 = (-b-(b**2-4*a*c)**(1/2))/(2*a)\n",
    "    print(\"해는 {}또는 {}\".format(r1,r2))\n",
    "    \n",
    "print_root(1,4,-21)\n",
    "\n",
    "print_root(1, -6, 8)"
   ]
  },
  {
   "cell_type": "code",
   "execution_count": 41,
   "id": "49cb9004",
   "metadata": {},
   "outputs": [
    {
     "name": "stdout",
     "output_type": "stream",
     "text": [
      "밑변 10, 높이 20인 삼각형의 면적은 : 100\n"
     ]
    }
   ],
   "source": [
    "def print_area(width, height):\n",
    "    print(\"밑변 %d, 높이 %d인 삼각형의 면적은 : %d\"%(width, height, width*height/2))\n",
    "    \n",
    "print_area(10, 20)"
   ]
  },
  {
   "cell_type": "code",
   "execution_count": 47,
   "id": "35ca81be",
   "metadata": {},
   "outputs": [
    {
     "name": "stdout",
     "output_type": "stream",
     "text": [
      "반지름 10인 원의 면적은 314.0, 원의 둘레는 62.8\n"
     ]
    }
   ],
   "source": [
    "def circle_area_circum(radius):\n",
    "    circle_area=3.14*radius**2\n",
    "    circle_circum=3.14*2*radius\n",
    "    return circle_area, circle_circum\n",
    "\n",
    "radius=10\n",
    "area, circum= circle_area_circum(radius)\n",
    "print(\"반지름 %.f인 원의 면적은 %.1f, 원의 둘레는 %.1f\"%(radius, area, circum))"
   ]
  },
  {
   "cell_type": "code",
   "execution_count": 55,
   "id": "99868b27",
   "metadata": {},
   "outputs": [
    {
     "name": "stdout",
     "output_type": "stream",
     "text": [
      "3 6 9 12\n",
      "2 4 6 8 10\n"
     ]
    }
   ],
   "source": [
    "def multiples(n,m):\n",
    "    list_multiples=[]\n",
    "    for i in range(n, n*m+1, n):\n",
    "        list_multiples.append(i)\n",
    "    tuple_multiples=tuple(list_multiples)\n",
    "    return tuple_multiples\n",
    "\n",
    "r1, r2, r3, r4 = multiples(3,4)\n",
    "print(r1, r2, r3, r4)\n",
    "r1, r2, r3, r4, r5 = multiples(2,5)\n",
    "print(r1, r2, r3, r4, r5)\n",
    "\n",
    "\n",
    "        "
   ]
  },
  {
   "cell_type": "code",
   "execution_count": 57,
   "id": "f82cec40",
   "metadata": {},
   "outputs": [
    {
     "name": "stdout",
     "output_type": "stream",
     "text": [
      "Dr. Gildong Hong\n",
      "Gildong Hong Dr.\n"
     ]
    }
   ],
   "source": [
    "def print_name(honorifics, first_name, last_name):\n",
    "    print(honorifics, first_name, last_name)\n",
    "    \n",
    "print_name(first_name='Gildong', last_name='Hong', honorifics='Dr.')\n",
    "\n",
    "print_name('Gildong', 'Hong', 'Dr.')"
   ]
  },
  {
   "cell_type": "code",
   "execution_count": 62,
   "id": "cd75b3fb",
   "metadata": {},
   "outputs": [
    {
     "name": "stdout",
     "output_type": "stream",
     "text": [
      "3개의 인자 (10, 20, 30)\n",
      "합계 : 60, 평균 : 20.0\n",
      "5개의 인자 (10, 20, 30, 40, 50)\n",
      "합계 : 150, 평균 : 30.0\n"
     ]
    }
   ],
   "source": [
    "def sum_nums(*numbers):\n",
    "    result = 0\n",
    "    for n in numbers:\n",
    "        result += n\n",
    "    print('{}개의 인자'.format(len(numbers)), numbers)\n",
    "    print('합계 : {}, 평균 : {}'.format(result, result/len(numbers)))\n",
    "sum_nums(10,20,30)\n",
    "sum_nums(10,20,30,40,50)"
   ]
  },
  {
   "cell_type": "code",
   "execution_count": 67,
   "id": "5e8f25ed",
   "metadata": {},
   "outputs": [
    {
     "name": "stdout",
     "output_type": "stream",
     "text": [
      "당신의 이름을 입력해주세요 : 김철수\n",
      "나이를 입력해주세요 : 21\n",
      "직업을 입력해주세요 : 학생\n",
      "사는 곳을 입력해주세요: 창원시\n",
      "당신의 이름은 김철수, 나이는 21살, 직업은 학생, 사는 곳은 창원시입니다.\n"
     ]
    }
   ],
   "source": [
    "name=input('당신의 이름을 입력해주세요 : ')\n",
    "age=input('나이를 입력해주세요 : ')\n",
    "job= input('직업을 입력해주세요 : ')\n",
    "house=input('사는 곳을 입력해주세요: ')\n",
    "print(\"당신의 이름은 {}, 나이는 {}살, 직업은 {}, 사는 곳은 {}입니다.\".format(name, age, job, house))"
   ]
  },
  {
   "cell_type": "code",
   "execution_count": 69,
   "id": "655007a3",
   "metadata": {},
   "outputs": [
    {
     "data": {
      "text/plain": [
       "'A_B_C_D'"
      ]
     },
     "execution_count": 69,
     "metadata": {},
     "output_type": "execute_result"
    }
   ],
   "source": [
    "'_'.join('ABCD')"
   ]
  },
  {
   "cell_type": "code",
   "execution_count": 71,
   "id": "aef0dcbf",
   "metadata": {},
   "outputs": [
    {
     "data": {
      "text/plain": [
       "'My favorite thing is cartoons.'"
      ]
     },
     "execution_count": 71,
     "metadata": {},
     "output_type": "execute_result"
    }
   ],
   "source": [
    "s='My favorite thing is mosters.'\n",
    "s.replace('mosters','cartoons')"
   ]
  }
 ],
 "metadata": {
  "kernelspec": {
   "display_name": "Python 3 (ipykernel)",
   "language": "python",
   "name": "python3"
  },
  "language_info": {
   "codemirror_mode": {
    "name": "ipython",
    "version": 3
   },
   "file_extension": ".py",
   "mimetype": "text/x-python",
   "name": "python",
   "nbconvert_exporter": "python",
   "pygments_lexer": "ipython3",
   "version": "3.9.12"
  }
 },
 "nbformat": 4,
 "nbformat_minor": 5
}
