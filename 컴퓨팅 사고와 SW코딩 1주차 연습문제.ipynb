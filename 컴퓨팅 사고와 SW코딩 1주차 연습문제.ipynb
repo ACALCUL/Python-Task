{
 "cells": [
  {
   "cell_type": "code",
   "execution_count": 11,
   "id": "6fe09fd1",
   "metadata": {},
   "outputs": [
    {
     "name": "stdout",
     "output_type": "stream",
     "text": [
      "세 정수를 입력하시오 : 3\n",
      "4\n",
      "1\n",
      "4 3 1\n"
     ]
    }
   ],
   "source": [
    "a=int(input('세 정수를 입력하시오 : '))\n",
    "b=int(input())\n",
    "c=int(input())\n",
    "\n",
    "if (a>b) and (b>c):\n",
    "    print(a, b, c)\n",
    "elif (c>b) and (b>a):\n",
    "    print(c, b, a)\n",
    "elif (b>a) and (a>c):\n",
    "    print(b, a, c)\n",
    "elif (b>c) and (c>a):\n",
    "    print(b, c, a)\n",
    "elif (a>c) and (c>b):\n",
    "    print(a, c, b)\n",
    "else:\n",
    "    print(c, a, b)"
   ]
  },
  {
   "cell_type": "code",
   "execution_count": 13,
   "id": "815d883d",
   "metadata": {},
   "outputs": [
    {
     "name": "stdout",
     "output_type": "stream",
     "text": [
      "점의 좌표 x, y를 입력하시오 : -2\n",
      "-4\n",
      "3사분면에 있음\n"
     ]
    }
   ],
   "source": [
    "a=int(input('점의 좌표 x, y를 입력하시오 : '))\n",
    "b=int(input())\n",
    "\n",
    "if a>0:\n",
    "    if b>0:\n",
    "        print('1사분면에 있음')\n",
    "    else:\n",
    "        print('4사분면에 있음')\n",
    "else:\n",
    "    if b>0:\n",
    "        print('2사분면에 있음')\n",
    "    else:\n",
    "        print('3사분면에 있음')"
   ]
  },
  {
   "cell_type": "code",
   "execution_count": 16,
   "id": "aab248f5",
   "metadata": {},
   "outputs": [
    {
     "name": "stdout",
     "output_type": "stream",
     "text": [
      "게임점수를 입력하시오 : 1000\n",
      "고수입니다.\n"
     ]
    }
   ],
   "source": [
    "score = int(input('게임점수를 입력하시오 : '))\n",
    "\n",
    "if score >=1000:\n",
    "    print(\"고수입니다.\")\n",
    "else:\n",
    "    print(\"입문자입니다.\")"
   ]
  },
  {
   "cell_type": "code",
   "execution_count": 17,
   "id": "0bbabaad",
   "metadata": {},
   "outputs": [
    {
     "name": "stdout",
     "output_type": "stream",
     "text": [
      "Python \n",
      "is \n",
      "FUN! \n",
      "Python \n",
      "is \n",
      "FUN! \n",
      "Python \n",
      "is \n",
      "FUN! \n"
     ]
    }
   ],
   "source": [
    "for i in range(3):\n",
    "    print('Python ')\n",
    "    print('is ')\n",
    "    print('FUN! ')"
   ]
  },
  {
   "cell_type": "code",
   "execution_count": 18,
   "id": "6ff7c663",
   "metadata": {},
   "outputs": [
    {
     "name": "stdout",
     "output_type": "stream",
     "text": [
      "Python \n",
      "is \n",
      "Python \n",
      "is \n",
      "Python \n",
      "is \n",
      "FUN! \n"
     ]
    }
   ],
   "source": [
    "for i in range(3):\n",
    "    print('Python ')\n",
    "    print('is ')\n",
    "print('FUN! ')"
   ]
  },
  {
   "cell_type": "code",
   "execution_count": 29,
   "id": "b887ab15",
   "metadata": {},
   "outputs": [
    {
     "name": "stdout",
     "output_type": "stream",
     "text": [
      "숫자를 입력하세요 : 99\n",
      "99 는 소수가 아닙니다."
     ]
    }
   ],
   "source": [
    "n=int(input('숫자를 입력하세요 : '))\n",
    "a=0\n",
    "for i in range(2, n):\n",
    "    if n%i==0:\n",
    "        print(n, \"는 소수가 아닙니다.\", end='')\n",
    "        break;\n",
    "    else: \n",
    "        a+=1\n",
    "if a==n-2:\n",
    "    print(n,\"는 소수입니다.\", end='')"
   ]
  },
  {
   "cell_type": "code",
   "execution_count": 34,
   "id": "8df95a6e",
   "metadata": {},
   "outputs": [
    {
     "name": "stdout",
     "output_type": "stream",
     "text": [
      "세 자리의 암스트롱 수 : \n",
      "153\n",
      "370\n",
      "371\n",
      "407\n"
     ]
    }
   ],
   "source": [
    "list=[]\n",
    "for i in range(100, 1000):\n",
    "    if i==(i//100)**3+((i//10)%10)**3+(i%10)**3:\n",
    "        list.append(i)\n",
    "print('세 자리의 암스트롱 수 : ')\n",
    "for i in list:\n",
    "    print(i)\n"
   ]
  },
  {
   "cell_type": "code",
   "execution_count": 8,
   "id": "3c54617b",
   "metadata": {},
   "outputs": [
    {
     "name": "stdout",
     "output_type": "stream",
     "text": [
      "1에서 9까지의 수를 입력하세요 : 5\n",
      "5 * 1 = 5\n",
      "5 * 2 = 10\n",
      "5 * 3 = 15\n",
      "5 * 4 = 20\n",
      "5 * 5 = 25\n",
      "5 * 6 = 30\n",
      "5 * 7 = 35\n",
      "5 * 8 = 40\n",
      "5 * 9 = 45\n"
     ]
    }
   ],
   "source": [
    "n= 0\n",
    "while (n<1) or (n>9):\n",
    "    n= int(input('1에서 9까지의 수를 입력하세요 : '))\n",
    "for i in range(1, 10):\n",
    "    print('{} * {} = {}'.format(n, i, n*i))\n"
   ]
  },
  {
   "cell_type": "code",
   "execution_count": 1,
   "id": "31204b86",
   "metadata": {},
   "outputs": [
    {
     "name": "stdout",
     "output_type": "stream",
     "text": [
      "맛나 식당에 오신 것을 환영합니다. 메뉴는 다음과 같습니다.\n",
      "- 삼겹구이 (입력 s)\n",
      "- 오삼불고기 (입력 o)\n",
      "- 된장찌개 (입력 d)\n",
      "메뉴를 선택하세요 (알파벳 s, o, d 입력 ) : a\n",
      "메뉴를 선택하세요 (알파벳 s, o, d 입력 ) : b\n",
      "메뉴를 선택하세요 (알파벳 s, o, d 입력 ) : c\n",
      "메뉴를 선택하세요 (알파벳 s, o, d 입력 ) : d\n",
      "된장찌개를 선택하였습니다\n"
     ]
    }
   ],
   "source": [
    "print('맛나 식당에 오신 것을 환영합니다. 메뉴는 다음과 같습니다.')\n",
    "print('- 삼겹구이 (입력 s)')\n",
    "print('- 오삼불고기 (입력 o)')\n",
    "print('- 된장찌개 (입력 d)')\n",
    "m = input('메뉴를 선택하세요 (알파벳 s, o, d 입력 ) : ')\n",
    "if m=='s':\n",
    "    print('삼겹구이를 선택하였습니다')\n",
    "elif m=='o':\n",
    "    print('오삼불고기를 선택하였습니다')\n",
    "elif m=='d':\n",
    "    print('된장찌개를 선택하였습니다')\n",
    "\n",
    "while (m!='s') and (m!='o') and (m!='d'):\n",
    "    m = input('메뉴를 선택하세요 (알파벳 s, o, d 입력 ) : ')\n",
    "    if m=='s':\n",
    "        print('삼겹구이를 선택하였습니다')\n",
    "    elif m=='o':\n",
    "        print('오삼불고기를 선택하였습니다')\n",
    "    elif m=='d':\n",
    "        print('된장찌개를 선택하였습니다')\n",
    "    "
   ]
  },
  {
   "cell_type": "code",
   "execution_count": 4,
   "id": "9ffa2281",
   "metadata": {},
   "outputs": [
    {
     "name": "stdout",
     "output_type": "stream",
     "text": [
      "         \n",
      "        *\n",
      "       **\n",
      "      ***\n",
      "     ****\n",
      "    *****\n",
      "   ******\n",
      "  *******\n",
      " ********\n"
     ]
    }
   ],
   "source": [
    "for i in range(9):\n",
    "    print(' '*(9-i), end='')\n",
    "    for j in range(i):\n",
    "        print('*', end='')\n",
    "    print('')\n",
    "        "
   ]
  },
  {
   "cell_type": "code",
   "execution_count": 16,
   "id": "0bb0b8a9",
   "metadata": {},
   "outputs": [
    {
     "name": "stdout",
     "output_type": "stream",
     "text": [
      "n을 입력하시오 : 7\n",
      "1  2  3  4  5  6  7  \n",
      "15 14 13 12 11 10 9  \n",
      "15 16 17 18 19 20 21 \n",
      "29 28 27 26 25 24 23 \n",
      "29 30 31 32 33 34 35 \n",
      "43 42 41 40 39 38 37 \n",
      "43 44 45 46 47 48 49 \n"
     ]
    }
   ],
   "source": [
    "n = int(input('n을 입력하시오 : '))\n",
    "i=1\n",
    "j=1\n",
    "for a in range(n):\n",
    "    if i%2==1:\n",
    "        for k in range(i, i+n):\n",
    "            print('{0:<3}'.format(k), end='')\n",
    "        print('')\n",
    "        j+=1\n",
    "        i+=n\n",
    "    else:\n",
    "        for k in range(i+n, i, -1):\n",
    "            print('{0:<3}'.format(k), end='')\n",
    "        print('')\n",
    "        j+=1\n",
    "        i+=n"
   ]
  },
  {
   "cell_type": "code",
   "execution_count": null,
   "id": "7186bcaf",
   "metadata": {},
   "outputs": [],
   "source": []
  }
 ],
 "metadata": {
  "kernelspec": {
   "display_name": "Python 3 (ipykernel)",
   "language": "python",
   "name": "python3"
  },
  "language_info": {
   "codemirror_mode": {
    "name": "ipython",
    "version": 3
   },
   "file_extension": ".py",
   "mimetype": "text/x-python",
   "name": "python",
   "nbconvert_exporter": "python",
   "pygments_lexer": "ipython3",
   "version": "3.9.12"
  }
 },
 "nbformat": 4,
 "nbformat_minor": 5
}
