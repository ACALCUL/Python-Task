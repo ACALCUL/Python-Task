{
 "cells": [
  {
   "cell_type": "code",
   "execution_count": 10,
   "metadata": {},
   "outputs": [
    {
     "name": "stdout",
     "output_type": "stream",
     "text": [
      "['s', 't', 'r', 'e', 's', 's', 'e', 'd']\n",
      "['d', 'e', 's', 's', 'e', 'r', 't', 's']\n",
      "desserts\n"
     ]
    }
   ],
   "source": [
    "list_=list(\"stressed\")\n",
    "print(list_)\n",
    "list_.reverse()\n",
    "print(list_)\n",
    "print(''.join(list_))\n",
    "#연습문제는 아니지만, 교수님이 만들라고 하신 코드"
   ]
  },
  {
   "cell_type": "code",
   "execution_count": 15,
   "metadata": {},
   "outputs": [
    {
     "name": "stdout",
     "output_type": "stream",
     "text": [
      "error: list index out of range\n"
     ]
    }
   ],
   "source": [
    "try:\n",
    "    a=[10,20,30]\n",
    "    a[3]\n",
    "except Exception as e:\n",
    "    print(\"error:\", e)"
   ]
  },
  {
   "cell_type": "code",
   "execution_count": 18,
   "metadata": {},
   "outputs": [
    {
     "name": "stdout",
     "output_type": "stream",
     "text": [
      "error: invalid literal for int() with base 10: '20%'\n"
     ]
    }
   ],
   "source": [
    "try:\n",
    "    n=int('20%')\n",
    "except Exception as e:\n",
    "    print(\"error:\", e)"
   ]
  },
  {
   "cell_type": "code",
   "execution_count": 19,
   "metadata": {},
   "outputs": [
    {
     "name": "stdout",
     "output_type": "stream",
     "text": [
      "error: unsupported operand type(s) for +: 'int' and 'str'\n"
     ]
    }
   ],
   "source": [
    "try:\n",
    "    a=100+'200'\n",
    "except Exception as e:\n",
    "    print(\"error:\", e)"
   ]
  },
  {
   "cell_type": "code",
   "execution_count": 21,
   "metadata": {},
   "outputs": [
    {
     "name": "stdout",
     "output_type": "stream",
     "text": [
      "오류: 0으로 나눔을 시도했습니다.\n"
     ]
    }
   ],
   "source": [
    "try:\n",
    "    10*(30/0)\n",
    "except ZeroDivisionError:\n",
    "    print(\"오류: 0으로 나눔을 시도했습니다.\")\n",
    "except ValueError:\n",
    "    print(\"오류: 입력값이 정수나 실수가 아닙니다.\")\n",
    "except Exception as e:\n",
    "    print(\"error:\", e)"
   ]
  },
  {
   "cell_type": "code",
   "execution_count": 23,
   "metadata": {},
   "outputs": [
    {
     "name": "stdout",
     "output_type": "stream",
     "text": [
      "정수 x를 입력하세요: 삼\n",
      "오류: 입력값이 정수나 실수가 아닙니다.\n"
     ]
    }
   ],
   "source": [
    "try:\n",
    "    x=int(input('정수 x를 입력하세요: '))\n",
    "except ZeroDivisionError:\n",
    "    print(\"오류: 0으로 나눔을 시도했습니다.\")\n",
    "except ValueError:\n",
    "    print(\"오류: 입력값이 정수나 실수가 아닙니다.\")\n",
    "except Exception as e:\n",
    "    print(\"오류:\", e)"
   ]
  },
  {
   "cell_type": "code",
   "execution_count": 26,
   "metadata": {},
   "outputs": [
    {
     "name": "stdout",
     "output_type": "stream",
     "text": [
      "오류: [Errno 2] No such file or directory: 'myfile.txt'\n"
     ]
    }
   ],
   "source": [
    "\n",
    "try:\n",
    "    import sys\n",
    "    r=open('myfile.txt')\n",
    "    s=f.readline()\n",
    "except ZeroDivisionError:\n",
    "    print(\"오류: 0으로 나눔을 시도했습니다.\")\n",
    "except ValueError:\n",
    "    print(\"오류: 입력값이 정수나 실수가 아닙니다.\")\n",
    "except Exception as e:\n",
    "    print(\"오류:\", e)"
   ]
  },
  {
   "cell_type": "code",
   "execution_count": 11,
   "metadata": {},
   "outputs": [
    {
     "name": "stdout",
     "output_type": "stream",
     "text": [
      "a의 요소를 하나 선택하시오 : 2\n",
      "2 은(는) 두 번째 요소입니다.\n"
     ]
    }
   ],
   "source": [
    "\n",
    "a=[1,2,3,4,5]\n",
    "b=['첫 번째', '두 번째', '세번째', '네번째', '다섯번째']\n",
    "n=(int)(input('a의 요소를 하나 선택하시오 : '))\n",
    "m=0\n",
    "for i in range(len(a)):\n",
    "    if n==a[i]:\n",
    "        print('{} 은(는) {} 요소입니다.'.format(a[i],b[i]))\n",
    "        m=+1;\n",
    "        break\n",
    "if m==0:\n",
    "    print('a의 요소가 아닌 값을 선택했습니다.')\n"
   ]
  },
  {
   "cell_type": "code",
   "execution_count": 10,
   "metadata": {},
   "outputs": [
    {
     "name": "stdout",
     "output_type": "stream",
     "text": [
      "a의 요소를 하나 선택하시오 : 삼\n",
      "오류: 입력값이 정수나 실수가 아님\n"
     ]
    }
   ],
   "source": [
    "\n",
    "try:\n",
    "    a=[1,2,3,4,5]\n",
    "    b=['첫 번째', '두 번째', '세번째', '네번째', '다섯번째']\n",
    "    n=(int)(input('a의 요소를 하나 선택하시오 : '))\n",
    "    m=0\n",
    "    for i in range(len(a)):\n",
    "        if n==a[i]:\n",
    "            print('{} 은(는) {} 요소입니다.'.format(a[i],b[i]))\n",
    "            m=+1;\n",
    "            break\n",
    "    if m==0:\n",
    "        print('a의 요소가 아닌 값을 선택했습니다.')\n",
    "        \n",
    "except ZeroDivisionError:\n",
    "    print(\"오류: 0으로 나눔을 시|도했습니다.\")\n",
    "except ValueError:\n",
    "    print(\"오류: 입력값이 정수나 실수가 아님\")\n",
    "except Exception as e:\n",
    "    print(\"오류:\", e)"
   ]
  },
  {
   "cell_type": "code",
   "execution_count": 8,
   "metadata": {
    "scrolled": true
   },
   "outputs": [
    {
     "ename": "Exception",
     "evalue": "fjaklfjsklafjlaf",
     "output_type": "error",
     "traceback": [
      "\u001b[1;31m---------------------------------------------------------------------------\u001b[0m",
      "\u001b[1;31mException\u001b[0m                                 Traceback (most recent call last)",
      "\u001b[1;32m<ipython-input-8-dcece2e79386>\u001b[0m in \u001b[0;36m<module>\u001b[1;34m\u001b[0m\n\u001b[1;32m----> 1\u001b[1;33m \u001b[1;32mraise\u001b[0m \u001b[0mException\u001b[0m\u001b[1;33m(\u001b[0m\u001b[1;34m'fjaklfjsklafjlaf'\u001b[0m\u001b[1;33m)\u001b[0m\u001b[1;33m\u001b[0m\u001b[1;33m\u001b[0m\u001b[0m\n\u001b[0m",
      "\u001b[1;31mException\u001b[0m: fjaklfjsklafjlaf"
     ]
    }
   ],
   "source": [
    "raise Exception('fjaklfjsklafjlaf')"
   ]
  },
  {
   "cell_type": "code",
   "execution_count": 16,
   "metadata": {},
   "outputs": [],
   "source": [
    "f=open('numbers.txt','w')\n",
    "f.write('100\\n200\\n300\\n400')\n",
    "f.close()"
   ]
  },
  {
   "cell_type": "code",
   "execution_count": 23,
   "metadata": {},
   "outputs": [],
   "source": [
    "f=open('we_will_rock.txt', 'w')\n",
    "f.write(\"Buddy, you're a boy, make a big noise\\n\")\n",
    "f.write(\"Playing in the street, gonna be a big man someday\\n\")\n",
    "f.write(\"You got mud on your face, you big disgrace\\n\")\n",
    "f.write(\"Kicking your can all over the place, singin'\\n\")\n",
    "f.write(\"We will, we will rock you\\n\")\n",
    "f.write(\"We will, we will rock you\\n\")\n",
    "f.close()\n",
    "\n",
    "\n",
    "\n"
   ]
  },
  {
   "cell_type": "code",
   "execution_count": 51,
   "metadata": {},
   "outputs": [
    {
     "name": "stdout",
     "output_type": "stream",
     "text": [
      "100\n",
      "200\n",
      "300\n",
      "400\n"
     ]
    }
   ],
   "source": [
    "f=open('numbers.txt', 'r')\n",
    "for i in range(4):\n",
    "    s=f.readline().rstrip()\n",
    "    print(s)\n",
    "f.close()"
   ]
  },
  {
   "cell_type": "code",
   "execution_count": 32,
   "metadata": {},
   "outputs": [
    {
     "name": "stdout",
     "output_type": "stream",
     "text": [
      "Buddy, you're a boy, make a big noise\n",
      "Playing in the street, gonna be a big man someday\n",
      "You got mud on your face, you big disgrace\n",
      "Kicking your can all over the place, singin'\n",
      "We will, we will rock you\n",
      "We will, we will rock you\n"
     ]
    }
   ],
   "source": [
    "f=open('we_will_rock.txt', 'r')\n",
    "for i in range(6):\n",
    "    s=f.readline().rstrip()\n",
    "    print(s)\n",
    "f.close()"
   ]
  },
  {
   "cell_type": "code",
   "execution_count": 52,
   "metadata": {},
   "outputs": [
    {
     "name": "stdout",
     "output_type": "stream",
     "text": [
      "입력할 파일의 이름 : we_will_rock.txt\n",
      "BUDDY, YOU'RE A BOY, MAKE A BIG NOISE\n",
      "PLAYING IN THE STREET, GONNA BE A BIG MAN SOMEDAY\n",
      "YOU GOT MUD ON YOUR FACE, YOU BIG DISGRACE\n",
      "KICKING YOUR CAN ALL OVER THE PLACE, SINGIN'\n",
      "WE WILL, WE WILL ROCK YOU\n",
      "WE WILL, WE WILL ROCK YOU\n"
     ]
    }
   ],
   "source": [
    "file=input('입력할 파일의 이름 : ')\n",
    "f1=open(file, 'r')\n",
    "f2=open('we_will_rock_upper.txt', 'w')\n",
    "\n",
    "l=f1.readline()\n",
    "while l:\n",
    "    sentence=l.upper()\n",
    "    f2.write(sentence)\n",
    "    print(sentence, end='')\n",
    "    l=f1.readline()\n",
    "f1.close()\n",
    "f2.close()"
   ]
  },
  {
   "cell_type": "code",
   "execution_count": 15,
   "metadata": {},
   "outputs": [
    {
     "name": "stdout",
     "output_type": "stream",
     "text": [
      "입력할 파일의 이름 : we_will_rock.txt\n",
      "We will, we will rock you\n",
      "We will, we will rock you\n",
      "Kicking your can all over the place, singin'\n",
      "You got mud on your face, you big disgrace\n",
      "Playing in the street, gonna be a big man someday\n",
      "Buddy, you're a boy, make a big noise\n"
     ]
    }
   ],
   "source": [
    "file=input('입력할 파일의 이름 : ')\n",
    "f1=open(file, 'r')\n",
    "l=f1.readline()\n",
    "list_=[]\n",
    "i=1\n",
    "while l:\n",
    "    list_.append(l)\n",
    "    i+=1\n",
    "    l=f1.readline()\n",
    "for i in range(len(list_)-1, -1, -1):\n",
    "    print(list_[i], end='')\n",
    "f1.close()\n"
   ]
  },
  {
   "cell_type": "code",
   "execution_count": null,
   "metadata": {},
   "outputs": [],
   "source": []
  }
 ],
 "metadata": {
  "kernelspec": {
   "display_name": "Python 3",
   "language": "python",
   "name": "python3"
  },
  "language_info": {
   "codemirror_mode": {
    "name": "ipython",
    "version": 3
   },
   "file_extension": ".py",
   "mimetype": "text/x-python",
   "name": "python",
   "nbconvert_exporter": "python",
   "pygments_lexer": "ipython3",
   "version": "3.8.5"
  }
 },
 "nbformat": 4,
 "nbformat_minor": 4
}
