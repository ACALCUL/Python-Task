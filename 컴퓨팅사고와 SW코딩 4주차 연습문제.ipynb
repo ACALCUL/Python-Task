{
 "cells": [
  {
   "cell_type": "code",
   "execution_count": 3,
   "id": "3154c618",
   "metadata": {},
   "outputs": [
    {
     "name": "stdout",
     "output_type": "stream",
     "text": [
      "3 * 2 = 6\n",
      "3 * 3 = 9\n",
      "3 * 4 = 12\n",
      "3 * 5 = 15\n",
      "3 * 6 = 18\n",
      "5 * 2 = 10\n",
      "5 * 3 = 15\n",
      "5 * 4 = 20\n",
      "5 * 5 = 25\n",
      "5 * 6 = 30\n",
      "7 * 2 = 14\n",
      "7 * 3 = 21\n",
      "7 * 4 = 28\n",
      "7 * 5 = 35\n",
      "7 * 6 = 42\n"
     ]
    }
   ],
   "source": [
    "list1=[3,5,7]\n",
    "list2=[2,3,4,5,6]\n",
    "for i in list1:\n",
    "    for j in list2:\n",
    "        print(\"{0} * {1} = {2}\".format(i, j, i*j))"
   ]
  },
  {
   "cell_type": "code",
   "execution_count": 15,
   "id": "5e59768e",
   "metadata": {},
   "outputs": [
    {
     "name": "stdout",
     "output_type": "stream",
     "text": [
      "[6, 5, 4, 3, 2]\n"
     ]
    }
   ],
   "source": [
    "a=[2,3,4,5,6]\n",
    "rev_a=[]\n",
    "b=len(a)\n",
    "for i in range(1,b+1):\n",
    "        rev_a.append(a.pop(b-i))\n",
    "print(rev_a)\n"
   ]
  },
  {
   "cell_type": "code",
   "execution_count": 21,
   "id": "d0ea8335",
   "metadata": {},
   "outputs": [
    {
     "name": "stdout",
     "output_type": "stream",
     "text": [
      "리스트 원소들: [10, 20, 30, 50, 60]\n",
      "리스트 원소들의 합: 170\n"
     ]
    }
   ],
   "source": [
    "n_list=[10,20,30,50,60]\n",
    "sum=0\n",
    "for _ in range(len(n_list)):\n",
    "    sum+=n_list[_]\n",
    "print('리스트 원소들:', n_list)\n",
    "print('리스트 원소들의 합:', sum)"
   ]
  },
  {
   "cell_type": "code",
   "execution_count": 27,
   "id": "c2d90de0",
   "metadata": {},
   "outputs": [
    {
     "name": "stdout",
     "output_type": "stream",
     "text": [
      "리스트 원소들: [10, 20, 30, 50, 60]\n",
      "리스트 원소들의 중 최댓값: 60\n"
     ]
    }
   ],
   "source": [
    "n_list=[10,20,30,50,60]\n",
    "max=n_list[0]\n",
    "for i in range(len(n_list)):\n",
    "    if max<n_list[i]:\n",
    "        max=n_list[i]\n",
    "print('리스트 원소들:', n_list)\n",
    "print('리스트 원소들의 중 최댓값:', max)"
   ]
  },
  {
   "cell_type": "code",
   "execution_count": 31,
   "id": "1face02d",
   "metadata": {},
   "outputs": [
    {
     "name": "stdout",
     "output_type": "stream",
     "text": [
      "가장 길이가 짧은 문자열: abc\n",
      "가장 길이가 긴 문자열: bcdefg\n"
     ]
    }
   ],
   "source": [
    "s_list=['abc', 'bcd', 'bcdefg', 'abba', 'cddc', 'opq']\n",
    "max=s_list[0]\n",
    "min=s_list[0]\n",
    "for i in range(len(s_list)):\n",
    "    if len(max)<len(s_list[i]):\n",
    "        max=s_list[i]\n",
    "    elif max==len(s_list[i]):\n",
    "        if s_list[i]<max:\n",
    "            max=s_list[i]\n",
    "    if len(min)>len(s_list[i]):\n",
    "        min=s_list[i]\n",
    "    elif min==len(s_list[i]):\n",
    "        if s_list[i]<min:\n",
    "            min=s_list[i]\n",
    "\n",
    "print('가장 길이가 짧은 문자열:', min)\n",
    "print('가장 길이가 긴 문자열:', max)"
   ]
  },
  {
   "cell_type": "code",
   "execution_count": 42,
   "id": "300d00b2",
   "metadata": {},
   "outputs": [
    {
     "name": "stdout",
     "output_type": "stream",
     "text": [
      "가장 길이가 짧은 문자열 : abc, bcd, opq\n"
     ]
    }
   ],
   "source": [
    "s_list.sort(key = len)\n",
    "t_list=[]\n",
    "for i in range(len(s_list)):\n",
    "    if len(s_list[0])==len(s_list[i]):\n",
    "        t_list.append(s_list[i])\n",
    "print('가장 길이가 짧은 문자열 : ', end='' )\n",
    "print(*t_list, sep=', ')"
   ]
  },
  {
   "cell_type": "code",
   "execution_count": 2,
   "id": "9b803046",
   "metadata": {},
   "outputs": [
    {
     "name": "stdout",
     "output_type": "stream",
     "text": [
      "before : [5, 6, 3, 9, 2, 12, 3, 8, 7]\n",
      "after : [5, 6, 3, 9, 2, 3, 8, 7, 12]\n"
     ]
    }
   ],
   "source": [
    "_list=[5,6,3,9,2,12,3,8,7]\n",
    "print('before :', _list)\n",
    "for i in range(5,len(_list)-1):\n",
    "    _list[i], _list[i+1]=_list[i+1], _list[i]\n",
    "print('after :', _list)"
   ]
  },
  {
   "cell_type": "code",
   "execution_count": 9,
   "id": "c8bfc0aa",
   "metadata": {},
   "outputs": [
    {
     "name": "stdout",
     "output_type": "stream",
     "text": [
      "주어진 리스트는 = [5, 6, 3, 9, 2, 12, 3, 8, 7]\n",
      "[5, 3, 6, 2, 9, 3, 8, 7, 12]\n",
      "[3, 5, 2, 6, 3, 8, 7, 9, 12]\n",
      "[3, 2, 5, 3, 6, 7, 8, 9, 12]\n",
      "[2, 3, 3, 5, 6, 7, 8, 9, 12]\n",
      "[2, 3, 3, 5, 6, 7, 8, 9, 12]\n",
      "[2, 3, 3, 5, 6, 7, 8, 9, 12]\n",
      "[2, 3, 3, 5, 6, 7, 8, 9, 12]\n",
      "[2, 3, 3, 5, 6, 7, 8, 9, 12]\n",
      "정렬된 결과는 : [2, 3, 3, 5, 6, 7, 8, 9, 12]\n"
     ]
    }
   ],
   "source": [
    "_list=[5,6,3,9,2,12,3,8,7]\n",
    "print('주어진 리스트는 =', _list)\n",
    "for j in range(len(_list)-1, 0, -1):\n",
    "    for k in range(j):\n",
    "        if _list[k]>_list[k+1]:\n",
    "            _list[k], _list[k+1]=_list[k+1], _list[k]\n",
    "    print(_list)\n",
    "print('정렬된 결과는 :', _list)"
   ]
  },
  {
   "cell_type": "code",
   "execution_count": 8,
   "id": "a56775b6",
   "metadata": {},
   "outputs": [
    {
     "name": "stdout",
     "output_type": "stream",
     "text": [
      "지난 10일 동안 전일대비 매출이 감소한 날은 3일 입니다.\n"
     ]
    }
   ],
   "source": [
    "dailysales=(100, 121, 120, 130, 140, 120, 122, 123 , 190, 125)\n",
    "decrease=0\n",
    "for i in range(len(dailysales)-1):\n",
    "    if dailysales[i]>dailysales[i+1]:\n",
    "        decrease+=1\n",
    "print(\"지난 10일 동안 전일대비 매출이 감소한 날은 {}일 입니다.\".format(decrease))\n",
    "        "
   ]
  },
  {
   "cell_type": "code",
   "execution_count": 25,
   "id": "93319be8",
   "metadata": {},
   "outputs": [
    {
     "name": "stdout",
     "output_type": "stream",
     "text": [
      "주어진 튜플: (1, 2, 5, 4, 3, 1, 1, 1, 3, 2, 1, 5, 7, 7)\n",
      "중복 제거 튜플: (1, 2, 3, 4, 5, 7)\n"
     ]
    }
   ],
   "source": [
    "given_tuple=(1,2,5,4,3,1,1,1,3,2,1,5,7,7)\n",
    "print('주어진 튜플:', given_tuple)\n",
    "altered_list=list(given_tuple)\n",
    "altered_list.sort()\n",
    "result_list=[]\n",
    "for i in altered_list:\n",
    "    if i not in result_list:\n",
    "        result_list.append(i)\n",
    "given_tuple=tuple(result_list)\n",
    "print('중복 제거 튜플:', given_tuple)"
   ]
  },
  {
   "cell_type": "code",
   "execution_count": 3,
   "id": "cbf746f7",
   "metadata": {},
   "outputs": [
    {
     "name": "stdout",
     "output_type": "stream",
     "text": [
      "학번을 입력하세요 :191102\n",
      "191102번 학생은 임꺽정입니다.\n",
      "학번을 입력하세요 :191106\n",
      "해당 학번의 학생이 없습니다.\n",
      "학번을 입력하세요 :-1\n",
      "해당 학번의 학생이 없습니다.\n",
      "프로그램을 종료합니다.\n"
     ]
    }
   ],
   "source": [
    "student_tuple=(('191101', '홍길동', '010-xxxx-xxxx'),('191102', '임꺽정', '010-xxxx-xxxx'),('191103', '장길산', '010-xxxx-xxxx'))\n",
    "dictionary={}\n",
    "for i in range(len(student_tuple)):\n",
    "    dictionary[student_tuple[i][0]]= student_tuple[i][1]\n",
    "student_input='0'\n",
    "while(student_input!='-1'):\n",
    "    student_input=input('학번을 입력하세요 :')\n",
    "    if student_input in dictionary:\n",
    "        print(\"{0}번 학생은 {1}입니다.\".format(student_input, dictionary[student_input]))\n",
    "    else:\n",
    "        print('해당 학번의 학생이 없습니다.')\n",
    "print('프로그램을 종료합니다.')"
   ]
  }
 ],
 "metadata": {
  "kernelspec": {
   "display_name": "Python 3 (ipykernel)",
   "language": "python",
   "name": "python3"
  },
  "language_info": {
   "codemirror_mode": {
    "name": "ipython",
    "version": 3
   },
   "file_extension": ".py",
   "mimetype": "text/x-python",
   "name": "python",
   "nbconvert_exporter": "python",
   "pygments_lexer": "ipython3",
   "version": "3.9.7"
  }
 },
 "nbformat": 4,
 "nbformat_minor": 5
}
