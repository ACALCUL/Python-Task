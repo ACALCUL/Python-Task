{
 "cells": [
  {
   "cell_type": "code",
   "execution_count": 52,
   "id": "3d8fa1de",
   "metadata": {},
   "outputs": [
    {
     "name": "stdout",
     "output_type": "stream",
     "text": [
      "정수를 여러 개 입력하시오 : 3 45 32 5 7 8 4 44 5 90 17\n",
      "평균값은 23.6\n",
      "최댓값은 90\n",
      "최솟값은 3\n"
     ]
    }
   ],
   "source": [
    "def mean_of_n(nums):\n",
    "    result=0\n",
    "    for i in nums:\n",
    "        result +=i\n",
    "    print(\"평균값은 {:.1f}\".format(result/len(nums)))\n",
    "def max_of_n(nums):\n",
    "    print(\"최댓값은 {}\".format(max(nums)))\n",
    "def min_of_n(nums):\n",
    "    print(\"최솟값은 {}\".format(min(nums)))\n",
    "\n",
    "\n",
    "nums_list=input(\"정수를 여러 개 입력하시오 : \").split()\n",
    "nums_list_r=[]\n",
    "for i in nums_list:\n",
    "    nums_list_r.append(int(i))\n",
    "mean_of_n(nums_list_r)\n",
    "max_of_n(nums_list_r)\n",
    "min_of_n(nums_list_r)"
   ]
  },
  {
   "cell_type": "code",
   "execution_count": null,
   "id": "91e5bca6",
   "metadata": {},
   "outputs": [],
   "source": [
    "def area(x1, y1, x2, y2):\n",
    "    a=abs(x1-x2)\n",
    "    b=abs(y1-y2)\n",
    "    return a*b/2\n",
    "\n",
    "x1=int(input(\"x1 좌표를 입력하시오 : \"))\n",
    "y1=int(input(\"y1 좌표를 입력하시오 : \"))\n",
    "x2=int(input(\"x2 좌표를 입력하시오 : \"))\n",
    "y2=int(input(\"y2 좌표를 입력하시오 : \"))\n",
    "print(\"직사각형의 면적은 : {:.1}\")"
   ]
  },
  {
   "cell_type": "code",
   "execution_count": null,
   "id": "7463ef23",
   "metadata": {},
   "outputs": [],
   "source": []
  }
 ],
 "metadata": {
  "kernelspec": {
   "display_name": "Python 3 (ipykernel)",
   "language": "python",
   "name": "python3"
  },
  "language_info": {
   "codemirror_mode": {
    "name": "ipython",
    "version": 3
   },
   "file_extension": ".py",
   "mimetype": "text/x-python",
   "name": "python",
   "nbconvert_exporter": "python",
   "pygments_lexer": "ipython3",
   "version": "3.9.12"
  }
 },
 "nbformat": 4,
 "nbformat_minor": 5
}
