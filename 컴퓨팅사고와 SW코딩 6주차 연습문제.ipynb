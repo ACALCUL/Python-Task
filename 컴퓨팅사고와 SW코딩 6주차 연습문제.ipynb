{
 "cells": [
  {
   "cell_type": "code",
   "execution_count": 1,
   "id": "bef6ef90",
   "metadata": {},
   "outputs": [
    {
     "name": "stdout",
     "output_type": "stream",
     "text": [
      "정수를 여러 개 입력하시오 : 3 45 32 5 7 8 4 44 5 90 17\n",
      "평균값은 23.6\n",
      "최댓값은 90\n",
      "최솟값은 3\n"
     ]
    }
   ],
   "source": [
    "def mean_of_n(nums):\n",
    "    result=0\n",
    "    for i in nums:\n",
    "        result +=i\n",
    "    print(\"평균값은 {:.1f}\".format(result/len(nums)))\n",
    "def max_of_n(nums):\n",
    "    print(\"최댓값은 {}\".format(max(nums)))\n",
    "def min_of_n(nums):\n",
    "    print(\"최솟값은 {}\".format(min(nums)))\n",
    "\n",
    "\n",
    "nums_list=input(\"정수를 여러 개 입력하시오 : \").split()\n",
    "nums_list_r=[]\n",
    "for i in nums_list:\n",
    "    nums_list_r.append(int(i))\n",
    "mean_of_n(nums_list_r)\n",
    "max_of_n(nums_list_r)\n",
    "min_of_n(nums_list_r)"
   ]
  },
  {
   "cell_type": "code",
   "execution_count": 7,
   "id": "44760b17",
   "metadata": {},
   "outputs": [
    {
     "name": "stdout",
     "output_type": "stream",
     "text": [
      "x1 좌표를 입력하시오 : 0\n",
      "y1 좌표를 입력하시오 : 0\n",
      "x2 좌표를 입력하시오 : 3\n",
      "y2 좌표를 입력하시오 : 4\n",
      "직사각형의 면적은 : 6.0\n"
     ]
    }
   ],
   "source": [
    "def area(x1, y1, x2, y2):\n",
    "    a=abs(x1-x2)\n",
    "    b=abs(y1-y2)\n",
    "    return a*b/2\n",
    "\n",
    "x1=int(input(\"x1 좌표를 입력하시오 : \"))\n",
    "y1=int(input(\"y1 좌표를 입력하시오 : \"))\n",
    "x2=int(input(\"x2 좌표를 입력하시오 : \"))\n",
    "y2=int(input(\"y2 좌표를 입력하시오 : \"))\n",
    "print(\"직사각형의 면적은 : {0:.1f}\".format(area(x1, y1, x2, y2)))"
   ]
  },
  {
   "cell_type": "code",
   "execution_count": 18,
   "id": "d08c8f37",
   "metadata": {},
   "outputs": [
    {
     "name": "stdout",
     "output_type": "stream",
     "text": [
      "쉼표로 구분된 정수를 여러 개 입력하시오: 56,67,89,34,24,300,99\n",
      "입력된 정수의 리스트: [56, 67, 89, 34, 24, 300, 99]\n",
      "정렬된 정수의 리스트: 24 34 56 67 89 99 300 "
     ]
    }
   ],
   "source": [
    "list_=input(\"쉼표로 구분된 정수를 여러 개 입력하시오: \").split(',')\n",
    "list_1=[]\n",
    "for i in list_:\n",
    "    list_1.append(int(i))\n",
    "print(\"입력된 정수의 리스트:\", list_1)\n",
    "list_1.sort()\n",
    "print(\"정렬된 정수의 리스트:\", end=' ')\n",
    "for i in list_1:\n",
    "    print(i, end=' ')\n",
    "\n",
    "\n"
   ]
  },
  {
   "cell_type": "code",
   "execution_count": 19,
   "id": "0cbd03dc",
   "metadata": {},
   "outputs": [
    {
     "name": "stdout",
     "output_type": "stream",
     "text": [
      "100과 200중 큰 수는 : 200\n",
      "100과 200중 작은 수는 : 100\n"
     ]
    }
   ],
   "source": [
    "def max2(m,n):\n",
    "    if m>n:\n",
    "        print(\"{}과 {}중 큰 수는 : {}\".format(m,n,m))\n",
    "    else:\n",
    "        print(\"{}과 {}중 큰 수는 : {}\".format(m,n,n))\n",
    "        \n",
    "def min2(m,n):\n",
    "    if m>n:\n",
    "        print(\"{}과 {}중 작은 수는 : {}\".format(m,n,n))\n",
    "    else:\n",
    "        print(\"{}과 {}중 작은 수는 : {}\".format(m,n,m))\n",
    "        \n",
    "max2(100, 200)\n",
    "min2(100, 200)\n",
    "        "
   ]
  },
  {
   "cell_type": "code",
   "execution_count": 22,
   "id": "8aa5c6bc",
   "metadata": {},
   "outputs": [
    {
     "name": "stdout",
     "output_type": "stream",
     "text": [
      "1마일 = 1.61킬로미터\n",
      "2마일 = 3.22킬로미터\n",
      "3마일 = 4.83킬로미터\n",
      "4마일 = 6.44킬로미터\n",
      "5마일 = 8.05킬로미터\n"
     ]
    }
   ],
   "source": [
    "def mile2km(m):\n",
    "    mile=1.61*m\n",
    "    print(\"{}마일 = {:.2f}킬로미터\".format(m, mile))\n",
    "\n",
    "for i in range(1,6):\n",
    "    mile2km(i)"
   ]
  },
  {
   "cell_type": "code",
   "execution_count": null,
   "id": "950c511a",
   "metadata": {},
   "outputs": [],
   "source": []
  }
 ],
 "metadata": {
  "kernelspec": {
   "display_name": "Python 3 (ipykernel)",
   "language": "python",
   "name": "python3"
  },
  "language_info": {
   "codemirror_mode": {
    "name": "ipython",
    "version": 3
   },
   "file_extension": ".py",
   "mimetype": "text/x-python",
   "name": "python",
   "nbconvert_exporter": "python",
   "pygments_lexer": "ipython3",
   "version": "3.9.12"
  }
 },
 "nbformat": 4,
 "nbformat_minor": 5
}
